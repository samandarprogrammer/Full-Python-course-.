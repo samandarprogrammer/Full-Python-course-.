{
 "cells": [
  {
   "cell_type": "code",
   "execution_count": null,
   "metadata": {},
   "outputs": [],
   "source": [
    "#Here we have to take input as two part as specified below:\n",
    "#1) first we have to take number of rows and columns as input.\n",
    "#2)Secondly we have to take elements of that 2D list."
   ]
  },
  {
   "cell_type": "code",
   "execution_count": null,
   "metadata": {},
   "outputs": [],
   "source": [
    "#It also act as jagged list because you can see that there is no use of column and we can give different number of columns\n",
    "string=input().split()\n",
    "n,m=int(string[0]),int(string[1])\n",
    "li=[[int(j) for j in input().split()] for i in range(n)]\n",
    "li"
   ]
  },
  {
   "cell_type": "code",
   "execution_count": null,
   "metadata": {},
   "outputs": [],
   "source": [
    "#2nd method of taking input\n",
    "#eg 1) we 1st take n and m as input\n",
    "# and then we take all element for our 2d list as a single line"
   ]
  },
  {
   "cell_type": "code",
   "execution_count": 20,
   "metadata": {},
   "outputs": [
    {
     "name": "stdout",
     "output_type": "stream",
     "text": [
      "2 3\n",
      "1 2 23 1 2 3\n"
     ]
    },
    {
     "data": {
      "text/plain": [
       "[[1, 2, 23], [1, 2, 3]]"
      ]
     },
     "execution_count": 20,
     "metadata": {},
     "output_type": "execute_result"
    }
   ],
   "source": [
    "#It is not a jagged list.\n",
    "string=input().split()\n",
    "n,m=int(string[0]),int(string[1])\n",
    "b=input().split()\n",
    "li1=[[int(b[m*i+j]) for j in range(m)] for i in range(n)]\n",
    "li1"
   ]
  },
  {
   "cell_type": "code",
   "execution_count": 21,
   "metadata": {},
   "outputs": [],
   "source": [
    "#3rd method to take input where everything is given in a single line and 1st and 2nd elements are n and m"
   ]
  },
  {
   "cell_type": "code",
   "execution_count": 22,
   "metadata": {},
   "outputs": [
    {
     "name": "stdout",
     "output_type": "stream",
     "text": [
      "2 3 1 2 3 4 5 6\n"
     ]
    },
    {
     "data": {
      "text/plain": [
       "[[1, 2, 3], [4, 5, 6]]"
      ]
     },
     "execution_count": 22,
     "metadata": {},
     "output_type": "execute_result"
    }
   ],
   "source": [
    "#3rd meth\n",
    "string=input().split()\n",
    "n,m=int(string[0]),int(string[1])\n",
    "b=string[2:]\n",
    "li2=[[int(b[m*i+j]) for j in range(m)] for i in range(n)]\n",
    "li2"
   ]
  }
 ],
 "metadata": {
  "kernelspec": {
   "display_name": "Python 3",
   "language": "python",
   "name": "python3"
  },
  "language_info": {
   "codemirror_mode": {
    "name": "ipython",
    "version": 3
   },
   "file_extension": ".py",
   "mimetype": "text/x-python",
   "name": "python",
   "nbconvert_exporter": "python",
   "pygments_lexer": "ipython3",
   "version": "3.9.0"
  }
 },
 "nbformat": 4,
 "nbformat_minor": 4
}
