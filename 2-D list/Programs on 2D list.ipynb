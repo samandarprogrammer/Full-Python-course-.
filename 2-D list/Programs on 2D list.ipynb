{
 "cells": [
  {
   "cell_type": "code",
   "execution_count": 25,
   "metadata": {},
   "outputs": [
    {
     "name": "stdout",
     "output_type": "stream",
     "text": [
      "4 4 1 2 3 4 9 8 7 6 3 4 5 6 -1 1 -10 5\n",
      "[[1, 2, 3, 4], [9, 8, 7, 6], [3, 4, 5, 6], [-1, 1, -10, 5]]\n",
      "10 30 18 -5 "
     ]
    }
   ],
   "source": [
    "def rowWiseSum(mat, nRows, mCols):\n",
    "    sum=0\n",
    "    result=[]\n",
    "    for row in mat:\n",
    "        for ele in row:\n",
    "            sum=sum+ele\n",
    "        result.append(sum)    \n",
    "        sum=0\n",
    "    for output in result:\n",
    "        print(output,end=' ')\n",
    "    \n",
    "li=input().split()\n",
    "nRows=int(li[0])\n",
    "mCols=int(li[1])\n",
    "b=li[2:]\n",
    "mat=[[int(b[mCols*i+j]) for j in range(mCols) ]for i in range(nRows)]\n",
    "rowWiseSum(mat, nRows, mCols)"
   ]
  },
  {
   "cell_type": "code",
   "execution_count": 26,
   "metadata": {},
   "outputs": [
    {
     "name": "stdout",
     "output_type": "stream",
     "text": [
      "4 2 1 2 3 4 5 6 7 8\n",
      "3 7 11 15 "
     ]
    }
   ],
   "source": [
    "#2nd method of row wise sum\n",
    "def rowWiseSum1(mat, nRows, mCols):\n",
    "    for i in range(nRows):\n",
    "        rowsum=0\n",
    "        for j in range(mCols):\n",
    "            rowsum+=mat[i][j]\n",
    "        print(rowsum,end=\" \")    \n",
    "    \n",
    "li=input().split()\n",
    "nRows=int(li[0])\n",
    "mCols=int(li[1])\n",
    "b=li[2:]\n",
    "mat=[[int(b[mCols*i+j]) for j in range(mCols) ]for i in range(nRows)]\n",
    "rowWiseSum1(mat, nRows, mCols)"
   ]
  },
  {
   "cell_type": "code",
   "execution_count": 30,
   "metadata": {},
   "outputs": [
    {
     "name": "stdout",
     "output_type": "stream",
     "text": [
      "3 21\n"
     ]
    }
   ],
   "source": [
    "def ColWiseSum(li):\n",
    "    n=len(li)\n",
    "    m=len(li[0])\n",
    "    max_sum=-1\n",
    "    col_index=-1\n",
    "    for i in range(m):\n",
    "        Colsum=0\n",
    "        for j in range(n):\n",
    "            Colsum+=li[j][i]\n",
    "        if Colsum>max_sum:  \n",
    "            col_index=i\n",
    "            max_sum=Colsum\n",
    "    return col_index,max_sum        \n",
    "        \n",
    "li=[[1,2,3,4],[8,7,6,5],[9,10,11,12]]        \n",
    "col_index,max_sum=ColWiseSum(li)\n",
    "print(col_index,max_sum)"
   ]
  },
  {
   "cell_type": "code",
   "execution_count": 46,
   "metadata": {},
   "outputs": [
    {
     "name": "stdout",
     "output_type": "stream",
     "text": [
      "0 31\n"
     ]
    }
   ],
   "source": [
    "#2nd method where we only iterate in different way\n",
    "def ColWiseSum(li):\n",
    "    n=len(li)\n",
    "    m=len(li[0])\n",
    "    max_sum=-1\n",
    "    col_index=-1\n",
    "    for i in range(m):\n",
    "        Colsum=0\n",
    "        for ele in li:     #Here is the changing \n",
    "            Colsum+=ele[i] #Here ele is change from list to list and we indicate at each column\n",
    "        if Colsum>max_sum:  \n",
    "            col_index=i\n",
    "            max_sum=Colsum\n",
    "    return col_index,max_sum        \n",
    "        \n",
    "li=[[6,9,8,5],[9,2,4,1],[8,3,9,3],[8,7,8,6]]        \n",
    "col_index,max_sum=ColWiseSum(li)\n",
    "print(col_index,max_sum)\n"
   ]
  },
  {
   "cell_type": "code",
   "execution_count": 45,
   "metadata": {},
   "outputs": [
    {
     "name": "stdout",
     "output_type": "stream",
     "text": [
      "4 2 1 2 90 100 3 40 -10 200\n",
      "column 1 342\n"
     ]
    }
   ],
   "source": [
    "def findLargest(arr, nRows, mCols):\n",
    "\n",
    "    #MAXSUM ROW    \n",
    "            \n",
    "    max_sum_row=-2147483648\n",
    "    row_index=-1    \n",
    "    for i in range(nRows):\n",
    "        Rowsum=0\n",
    "        for j in range(mCols):\n",
    "            Rowsum+=arr[i][j]    \n",
    "        if Rowsum>max_sum_row:  \n",
    "            row_index=i\n",
    "            max_sum_row=Rowsum\n",
    "            \n",
    "    #MAXSUM COLUMN  \n",
    "    \n",
    "    max_sum_col=-2147483648\n",
    "    col_index=-1\n",
    "    for i in range(mCols):\n",
    "        Colsum=0\n",
    "        for ele in arr:     \n",
    "            Colsum+=ele[i] \n",
    "        if Colsum>max_sum_col:  \n",
    "            col_index=i\n",
    "            max_sum_col=Colsum \n",
    "                 \n",
    "     \n",
    "    if max_sum_col>max_sum_row:\n",
    "        print('column'+\" \"+str(col_index) +\" \"+ str(max_sum_col))\n",
    "    else:\n",
    "        print(\"row\"+' '+str(row_index) + str(max_sum_row))\n",
    "        \n",
    "        \n",
    "li=input().split()\n",
    "nRows=int(li[0])\n",
    "mCols=int(li[1])\n",
    "b=li[2:]\n",
    "mat=[[int(b[mCols*i+j]) for j in range(mCols) ]for i in range(nRows)]\n",
    "findLargest(mat, nRows, mCols)        "
   ]
  },
  {
   "cell_type": "code",
   "execution_count": 49,
   "metadata": {},
   "outputs": [
    {
     "name": "stdout",
     "output_type": "stream",
     "text": [
      "2 2 1 1 1 1\n",
      "row 0 2\n"
     ]
    }
   ],
   "source": [
    "#2nd method\n",
    "minvalue=-2147483648\n",
    "def findLargest1(arr, nRows, mCols):\n",
    "    largest_value=minvalue\n",
    "    max_row_index=0\n",
    "    IsRow=False\n",
    "    for i in range(nRows):\n",
    "        rowsum=0\n",
    "        for j in range(mCols):\n",
    "            rowsum+=arr[i][j]\n",
    "        if rowsum>largest_value:\n",
    "            largest_value=rowsum\n",
    "            num=i\n",
    "     \n",
    "    for j in range(mCols):\n",
    "        colsum=0\n",
    "        for ele in arr:\n",
    "            colsum+=ele[j]\n",
    "        if colsum>largest_value:\n",
    "            largest_value=colsum\n",
    "            num=j\n",
    "            IsRow=True\n",
    "    if IsRow:\n",
    "        print('column'+\" \"+str(num) +\" \"+ str(largest_value))\n",
    "    else:\n",
    "        print('row'+\" \"+str(num) +\" \"+ str(largest_value))\n",
    "        \n",
    "        \n",
    "li=input().split()\n",
    "nRows=int(li[0])\n",
    "mCols=int(li[1])\n",
    "b=li[2:]\n",
    "mat=[[int(b[mCols*i+j]) for j in range(mCols) ]for i in range(nRows)]\n",
    "findLargest1(mat, nRows, mCols)        "
   ]
  },
  {
   "cell_type": "code",
   "execution_count": 53,
   "metadata": {},
   "outputs": [
    {
     "name": "stdout",
     "output_type": "stream",
     "text": [
      "3 4 1 2 3 4 5 6 7 8 9 10 11 12\n",
      "1 5 9 10 6 2 3 7 11 12 8 4 "
     ]
    }
   ],
   "source": [
    "def wavePrint(mat, nRows, mCols):\n",
    "    for j in range(1,mCols+1):\n",
    "        if j%2!=0:\n",
    "            i=0\n",
    "            while i<nRows:\n",
    "                print(mat[i][j-1],end=' ')\n",
    "                i=i+1\n",
    "        else:\n",
    "            i=nRows-1\n",
    "            while i>=0:\n",
    "                print(mat[i][j-1],end=' ')\n",
    "                i=i-1\n",
    "                \n",
    "li=input().split()\n",
    "nRows=int(li[0])\n",
    "mCols=int(li[1])\n",
    "b=li[2:]\n",
    "mat=[[int(b[mCols*i+j]) for j in range(mCols) ]for i in range(nRows)]\n",
    "wavePrint(mat, nRows, mCols)                       "
   ]
  },
  {
   "cell_type": "code",
   "execution_count": 57,
   "metadata": {},
   "outputs": [
    {
     "name": "stdout",
     "output_type": "stream",
     "text": [
      "4 4 1 2 3 4 5 6 7 8 9 10 11 12 13 14 15 16\n",
      "1 2 3 4 8 12 16 15 14 13 9 5 6 7 11 10 "
     ]
    }
   ],
   "source": [
    "def spiralPrint(mat, nRows, mCols):\n",
    "    rs=0\n",
    "    re=nRows\n",
    "    cs=0\n",
    "    ce=mCols\n",
    "    c=0\n",
    "    while (c<(nRows*mCols)):\n",
    "        \n",
    "        for j in range(cs,ce):\n",
    "            print(mat[rs][j],end=' ')\n",
    "            c=c+1\n",
    "        rs=rs+1\n",
    "        for j in range(rs,re):\n",
    "            print(mat[j][ce-1],end=' ')\n",
    "            c=c+1\n",
    "        ce=ce-1\n",
    "        for j in range(ce,cs,-1):\n",
    "            print(mat[re-1][j-1],end=' ')\n",
    "            c=c+1\n",
    "        re=re-1\n",
    "        for j in range(re,rs,-1):\n",
    "            print(mat[j-1][cs],end=' ')\n",
    "            c=c+1\n",
    "        cs=cs+1    \n",
    "                \n",
    "li=input().split()\n",
    "nRows=int(li[0])\n",
    "mCols=int(li[1])\n",
    "b=li[2:]\n",
    "mat=[[int(b[mCols*i+j]) for j in range(mCols) ]for i in range(nRows)]\n",
    "spiralPrint(mat, nRows, mCols)                    "
   ]
  }
 ],
 "metadata": {
  "kernelspec": {
   "display_name": "Python 3",
   "language": "python",
   "name": "python3"
  },
  "language_info": {
   "codemirror_mode": {
    "name": "ipython",
    "version": 3
   },
   "file_extension": ".py",
   "mimetype": "text/x-python",
   "name": "python",
   "nbconvert_exporter": "python",
   "pygments_lexer": "ipython3",
   "version": "3.9.0"
  }
 },
 "nbformat": 4,
 "nbformat_minor": 4
}
