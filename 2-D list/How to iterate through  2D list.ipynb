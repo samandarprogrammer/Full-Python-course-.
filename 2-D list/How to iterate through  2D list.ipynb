{
 "cells": [
  {
   "cell_type": "code",
   "execution_count": 2,
   "metadata": {},
   "outputs": [
    {
     "name": "stdout",
     "output_type": "stream",
     "text": [
      "1 2 3 4 \n",
      "4 5 5 6 \n",
      "7 8 9 52 \n"
     ]
    }
   ],
   "source": [
    "#1st method is used when we don't have jagged list\n",
    "li=[[1,2,3,4],[4,5,5,6],[7,8,9,52]]\n",
    "n=3\n",
    "m=4\n",
    "for i in range(n):\n",
    "    for j in range(m):\n",
    "        print(li[i][j],end=' ')\n",
    "    print()    "
   ]
  },
  {
   "cell_type": "code",
   "execution_count": 5,
   "metadata": {},
   "outputs": [
    {
     "name": "stdout",
     "output_type": "stream",
     "text": [
      "1 2 3 \n",
      "4 5 5 6 \n",
      "7 52 \n"
     ]
    }
   ],
   "source": [
    "#2nd method is used for jagged list as well\n",
    "li1=[[1,2,3],[4,5,5,6],[7,52]]\n",
    "for row in li1:\n",
    "    for ele in row:\n",
    "        print(ele,end=' ')\n",
    "    print()    "
   ]
  },
  {
   "cell_type": "code",
   "execution_count": 8,
   "metadata": {},
   "outputs": [
    {
     "name": "stdout",
     "output_type": "stream",
     "text": [
      "1 2 3\n",
      "4 5 5 6\n",
      "7 52\n"
     ]
    }
   ],
   "source": [
    "#3rd method is used for jagged list but here we use join as well as list comprehension method\n",
    "li3=[[1,2,3],[4,5,5,6],[7,52]]\n",
    "for row in li3:\n",
    "    output=(\" \").join([str(ele) for ele in row])\n",
    "    print(output)"
   ]
  },
  {
   "cell_type": "code",
   "execution_count": null,
   "metadata": {},
   "outputs": [],
   "source": []
  }
 ],
 "metadata": {
  "kernelspec": {
   "display_name": "Python 3",
   "language": "python",
   "name": "python3"
  },
  "language_info": {
   "codemirror_mode": {
    "name": "ipython",
    "version": 3
   },
   "file_extension": ".py",
   "mimetype": "text/x-python",
   "name": "python",
   "nbconvert_exporter": "python",
   "pygments_lexer": "ipython3",
   "version": "3.9.0"
  }
 },
 "nbformat": 4,
 "nbformat_minor": 4
}
