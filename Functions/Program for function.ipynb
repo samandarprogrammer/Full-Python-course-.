{
 "cells": [
  {
   "cell_type": "code",
   "execution_count": null,
   "metadata": {},
   "outputs": [],
   "source": [
    "##FACTORIAL and also using that function we crete n-c-r factorial. \n",
    "def fact(n):\n",
    "    n_fact=1\n",
    "    for i in range(1,n+1):\n",
    "        n_fact=n_fact*i\n",
    "    return n_fact\n",
    "n= int(input())\n",
    "r=int(input())\n",
    "n_fact=fact(n)\n",
    "r_fact=fact(r)\n",
    "n_r_fact=fact(n-r)\n",
    "ans=n_fact//(r_fact * n_r_fact)\n",
    "print(ans)"
   ]
  },
  {
   "cell_type": "code",
   "execution_count": null,
   "metadata": {},
   "outputs": [],
   "source": []
  },
  {
   "cell_type": "code",
   "execution_count": null,
   "metadata": {},
   "outputs": [],
   "source": [
    "def F_TO_C(s,e,st):\n",
    "    for i in range(s,e+1,st):\n",
    "        c =(i-32)*5/9\n",
    "        print(i,\" \",int(c))\n",
    "    return\n",
    "s=int(input())\n",
    "e=int(input())\n",
    "st=int(input())\n",
    "F_TO_C(s,e,st)"
   ]
  },
  {
   "cell_type": "code",
   "execution_count": null,
   "metadata": {},
   "outputs": [],
   "source": [
    "def Is_Fibonacci(n):\n",
    "    a=0\n",
    "    b=1\n",
    "    flag=False\n",
    "    while a<=n:\n",
    "        if a==n:\n",
    "            flag=True\n",
    "            return flag\n",
    "        else:\n",
    "            c=a+b\n",
    "            a=b\n",
    "            b=c\n",
    "            \n",
    "    return flag\n",
    "n=int(input())\n",
    "Is_Fibonacci(n)"
   ]
  },
  {
   "cell_type": "code",
   "execution_count": null,
   "metadata": {},
   "outputs": [],
   "source": [
    "def checkPalindrome(num):\n",
    "    ne=num\n",
    "    rev=0\n",
    "    while ne!=0:\n",
    "        md=ne%10\n",
    "        ne=int(ne/10)\n",
    "        rev =rev*10 +md\n",
    "    if rev==num:\n",
    "        return True\n",
    "    else:\n",
    "        return False\n",
    "\n",
    "num = int(input())\n",
    "isPalindrome = checkPalindrome(num)\n",
    "if(isPalindrome):\n",
    "    print('true')\n",
    "else:\n",
    "    print('false')\n"
   ]
  },
  {
   "cell_type": "code",
   "execution_count": 70,
   "metadata": {},
   "outputs": [
    {
     "name": "stdout",
     "output_type": "stream",
     "text": [
      "1634\n",
      "true\n"
     ]
    }
   ],
   "source": [
    "def Is_Armstrong(num):\n",
    "    ne=num\n",
    "    rev=0\n",
    "    while ne!=0:\n",
    "        md=ne%10\n",
    "        ne=int(ne/10)\n",
    "        rev =rev*10 +md\n",
    "    \n",
    "    me=str(rev)\n",
    "    l=len(me)\n",
    "    ne=int(me)\n",
    "    power=0\n",
    "    while ne!=0:\n",
    "        md=ne%10\n",
    "        ne=int(ne/10)\n",
    "        power=power+md**l\n",
    "    if num==power:\n",
    "        return True\n",
    "    else:\n",
    "        return False\n",
    "    \n",
    "n=int(input())\n",
    "a=Is_Armstrong(n)\n",
    "if a:\n",
    "    print(\"true\")\n",
    "else:\n",
    "    print(\"false\")"
   ]
  }
 ],
 "metadata": {
  "kernelspec": {
   "display_name": "Python 3",
   "language": "python",
   "name": "python3"
  },
  "language_info": {
   "codemirror_mode": {
    "name": "ipython",
    "version": 3
   },
   "file_extension": ".py",
   "mimetype": "text/x-python",
   "name": "python",
   "nbconvert_exporter": "python",
   "pygments_lexer": "ipython3",
   "version": "3.9.0"
  }
 },
 "nbformat": 4,
 "nbformat_minor": 4
}
