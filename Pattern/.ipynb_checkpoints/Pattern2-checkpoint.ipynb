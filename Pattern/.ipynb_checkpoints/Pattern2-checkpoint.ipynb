{
 "cells": [
  {
   "cell_type": "raw",
   "metadata": {},
   "source": [
    "code1\n",
    "=====\n",
    "n->4\n",
    "    ****\n",
    "    ***\n",
    "    **\n",
    "    *\n",
    "    \n",
    "n->8 \n",
    "    ********\n",
    "    *******\n",
    "    ******\n",
    "    *****\n",
    "    ****\n",
    "    ***\n",
    "    **\n",
    "    *"
   ]
  },
  {
   "cell_type": "code",
   "execution_count": null,
   "metadata": {
    "scrolled": true
   },
   "outputs": [],
   "source": [
    "def code1(n):\n",
    "    i=1\n",
    "    while i<=n:\n",
    "        j=1\n",
    "        while j<=n-i+1:\n",
    "            print(\"*\",end='')\n",
    "            j=j+1\n",
    "        print()    \n",
    "        i=i+1\n",
    "     \n",
    "n=int(input())\n",
    "code1(n)"
   ]
  },
  {
   "cell_type": "code",
   "execution_count": null,
   "metadata": {
    "scrolled": true
   },
   "outputs": [],
   "source": [
    "Code2\n",
    "====\n",
    "n->4\n",
    "    4444\n",
    "    333\n",
    "    22\n",
    "    1"
   ]
  },
  {
   "cell_type": "code",
   "execution_count": null,
   "metadata": {
    "scrolled": true
   },
   "outputs": [],
   "source": [
    "def code2(n):\n",
    "    i=1\n",
    "    while i<=n:\n",
    "        j=1\n",
    "        while j<=n-i+1:\n",
    "            print(n-i+1,end='')\n",
    "            j=j+1\n",
    "        print()    \n",
    "        i=i+1\n",
    "     \n",
    "n=int(input())\n",
    "code2(n)"
   ]
  },
  {
   "cell_type": "code",
   "execution_count": null,
   "metadata": {
    "scrolled": true
   },
   "outputs": [],
   "source": [
    "Code3\n",
    "====\n",
    "n->4\n",
    "   *\n",
    "  **\n",
    " ***\n",
    "****"
   ]
  },
  {
   "cell_type": "code",
   "execution_count": null,
   "metadata": {
    "scrolled": true
   },
   "outputs": [],
   "source": [
    "def code3(n):\n",
    "    i=1\n",
    "    while i<=n:\n",
    "        space =1\n",
    "        while space<=n-i:\n",
    "            print(\" \",end='')\n",
    "            space = space+1\n",
    "        star=1\n",
    "        while star<=i:\n",
    "            print(\"*\",end='')\n",
    "            star=star+1\n",
    "        print()    \n",
    "        i=i+1\n",
    "        \n",
    "n=int(input())\n",
    "code3(n)"
   ]
  },
  {
   "cell_type": "code",
   "execution_count": null,
   "metadata": {
    "scrolled": true
   },
   "outputs": [],
   "source": [
    "code4\n",
    "=========\n",
    "n->4\n",
    "     1 \n",
    "    12\n",
    "   123\n",
    "  1234"
   ]
  },
  {
   "cell_type": "code",
   "execution_count": null,
   "metadata": {
    "scrolled": true
   },
   "outputs": [],
   "source": [
    "def code4(n):\n",
    "    i=1\n",
    "    while i<=n:\n",
    "        space=1\n",
    "        while space<=n-i:\n",
    "            print(\" \",end=\"\")\n",
    "            space =space+1\n",
    "        no=1\n",
    "        while no<=i:\n",
    "            print(no,end='')\n",
    "            no=no+1\n",
    "        print()\n",
    "        i =i+1\n",
    "        \n",
    "n=int(input())\n",
    "code4(n)"
   ]
  },
  {
   "cell_type": "code",
   "execution_count": null,
   "metadata": {
    "scrolled": true
   },
   "outputs": [],
   "source": [
    "Code5\n",
    "====\n",
    "n->4    \n",
    "   1\n",
    "  121\n",
    " 12321\n",
    "1234321"
   ]
  },
  {
   "cell_type": "code",
   "execution_count": null,
   "metadata": {
    "scrolled": true
   },
   "outputs": [],
   "source": [
    "def code5(n):\n",
    "    i=1\n",
    "    while i<=n:\n",
    "        space=1 ##spacing\n",
    "        while space<=n-i:\n",
    "            print(\" \",end=\"\")\n",
    "            space =space+1\n",
    "        no=1   ##increasing order of number\n",
    "        while no<=i:\n",
    "            print(no,end='')\n",
    "            no=no+1\n",
    "          \n",
    "        inc=i-1 ##decreasing order of number\n",
    "        while inc>=1:\n",
    "            print(inc,end='')\n",
    "            inc=inc-1\n",
    "        print()\n",
    "        i =i+1\n",
    "        \n",
    "n=int(input())\n",
    "code5(n)"
   ]
  },
  {
   "cell_type": "code",
   "execution_count": null,
   "metadata": {
    "scrolled": true
   },
   "outputs": [],
   "source": [
    "code6\n",
    "=====\n",
    "n->4\n",
    "    *\n",
    "   *** \n",
    "  *****\n",
    " *******"
   ]
  },
  {
   "cell_type": "code",
   "execution_count": null,
   "metadata": {
    "scrolled": true
   },
   "outputs": [],
   "source": [
    "def code6(n):\n",
    "    i=1\n",
    "    while i<=n:\n",
    "        space=1 ##spacing\n",
    "        while space<=n-i:\n",
    "            print(\" \",end=\"\")\n",
    "            space =space+1\n",
    "        no=1   ##increasing order of number\n",
    "        while no<=i:\n",
    "            print('*',end='')\n",
    "            no=no+1\n",
    "          \n",
    "        inc=i-1 ##decreasing order of number\n",
    "        while inc>=1:\n",
    "            print('*',end='')\n",
    "            inc=inc-1\n",
    "        print()\n",
    "        i =i+1\n",
    "        \n",
    "n=int(input())\n",
    "code6(n)\n"
   ]
  },
  {
   "cell_type": "code",
   "execution_count": null,
   "metadata": {
    "scrolled": true
   },
   "outputs": [],
   "source": [
    "##IT IS SAME AS ABOVE CODE BUT IN ABOVE WE DO PRINTING OF STARS IN TWO PARTS,BUT HERE WE DO IN ONE SINGLE PART\n",
    "def code6a(n):\n",
    "    i=1\n",
    "    while i<=n:\n",
    "        space=1 ##spacing\n",
    "        while space<=n-i:\n",
    "            print(\" \",end=\"\")\n",
    "            space =space+1\n",
    "        no=1   \n",
    "        while no<=2*i-1:\n",
    "            print('*',end='')\n",
    "            no=no+1\n",
    "        print()\n",
    "        i=i+1\n",
    "n=int(input())\n",
    "code6a(n)"
   ]
  },
  {
   "cell_type": "code",
   "execution_count": null,
   "metadata": {
    "scrolled": true
   },
   "outputs": [],
   "source": [
    "code7\n",
    "=====\n",
    "n->4\n",
    "     1\n",
    "    232\n",
    "   34543\n",
    "  4567654"
   ]
  },
  {
   "cell_type": "code",
   "execution_count": null,
   "metadata": {
    "scrolled": true
   },
   "outputs": [],
   "source": [
    "def code7(n):\n",
    "    i=1\n",
    "    while i<=n:\n",
    "        space=1\n",
    "        while space<=n-i:\n",
    "            print(\" \",end='')\n",
    "            space=space+1\n",
    "        inc_no=1\n",
    "        while inc_no<=i:\n",
    "            print(i+inc_no-1,end='')\n",
    "            inc_no =inc_no+1\n",
    "            \n",
    "        dec_no=i-1\n",
    "        while dec_no>=1:\n",
    "            print(i+dec_no-1,end='')\n",
    "            dec_no=dec_no-1\n",
    "        i=i+1\n",
    "        print()\n",
    "n=int(input())        \n",
    "code7(n)"
   ]
  },
  {
   "cell_type": "code",
   "execution_count": null,
   "metadata": {
    "scrolled": true
   },
   "outputs": [],
   "source": [
    "Diamond\n",
    "=======\n",
    "n->7\n",
    "   *\n",
    "  ***\n",
    " *****\n",
    "*******\n",
    " *****\n",
    "  ***\n",
    "   *"
   ]
  },
  {
   "cell_type": "code",
   "execution_count": null,
   "metadata": {
    "scrolled": true
   },
   "outputs": [],
   "source": [
    "def upper_part(n):\n",
    "    i=1\n",
    "    while i<=n:\n",
    "        space=1 ##spacing\n",
    "        while space<=n-i:\n",
    "            print(\" \",end=\"\")\n",
    "            space =space+1\n",
    "        no=1   \n",
    "        while no<=2*i-1:\n",
    "            print('*',end='')\n",
    "            no=no+1\n",
    "        print()\n",
    "        i=i+1\n",
    "        \n",
    "def lower_part(n):\n",
    "    i=n\n",
    "    while i>=1:\n",
    "        space=1\n",
    "        while space<=n-i+1:\n",
    "            print(\" \",end='')\n",
    "            space =space+1\n",
    "        \n",
    "        star=1\n",
    "        while star<=(2*i)-1:\n",
    "            print(\"*\",end='')\n",
    "            star =star+1\n",
    "        print()    \n",
    "        i=i-1  \n",
    "        \n",
    "def diamond(n):\n",
    "    n1=(n+1)/2\n",
    "    n2=n1-1\n",
    "    upper_part(n1)\n",
    "    lower_part(n2)\n",
    "    \n",
    "n=int(input())    \n",
    "diamond(n)"
   ]
  },
  {
   "cell_type": "code",
   "execution_count": null,
   "metadata": {
    "scrolled": true
   },
   "outputs": [],
   "source": [
    "Mirror_Number\n",
    "===========\n",
    "n->4\n",
    "    1      1\n",
    "    12    21\n",
    "    123  321\n",
    "    12344321"
   ]
  },
  {
   "cell_type": "code",
   "execution_count": null,
   "metadata": {
    "scrolled": true
   },
   "outputs": [],
   "source": [
    "def Mirror_Number(n):\n",
    "    m=1\n",
    "    while m<=n:\n",
    "        j=1\n",
    "        while j<=m:\n",
    "            print(j,end='')\n",
    "            j=j+1\n",
    "\n",
    "        space =1\n",
    "        while space<=2*(n-m):\n",
    "            print(\" \",end='')\n",
    "            space=space+1\n",
    "\n",
    "\n",
    "        p=m\n",
    "        while p>0:\n",
    "            print(p,end='') \n",
    "            p=p-1\n",
    "        m =m+1\n",
    "        print()\n",
    "   \n",
    "n=int(input())\n",
    "Mirror_Number(n)"
   ]
  },
  {
   "cell_type": "code",
   "execution_count": null,
   "metadata": {},
   "outputs": [],
   "source": [
    "# Star_Zero\n",
    "===========\n",
    "n->4\n",
    "    *000*000*\n",
    "    0*00*00*0\n",
    "    00*0*0*00\n",
    "    000***000\n",
    "n->5\n",
    "    *0000*0000*\n",
    "    0*000*000*0\n",
    "    00*00*00*00\n",
    "    000*0*0*000\n",
    "    0000***0000"
   ]
  },
  {
   "cell_type": "code",
   "execution_count": null,
   "metadata": {
    "scrolled": true
   },
   "outputs": [],
   "source": [
    "def Star_Zero(n):\n",
    "    i=1\n",
    "    p=(2*n)+2\n",
    "    while i<=n:\n",
    "        p=p-1\n",
    "        j=1\n",
    "        while j<=n:\n",
    "            if i==j:\n",
    "                print(\"*\",end='')\n",
    "                j=j+1\n",
    "            else:\n",
    "                print(\"0\",end='')\n",
    "                j=j+1\n",
    "        j=n+1\n",
    "        while j==n+1:\n",
    "            print(\"*\",end='')\n",
    "            j=j+1\n",
    "            \n",
    "        j=n+2\n",
    "        \n",
    "        while j<=(2*n)+1:\n",
    "            if j==p:\n",
    "                print(\"*\",end='')\n",
    "                j=j+1\n",
    "                \n",
    "            else:\n",
    "                print(\"0\",end='')\n",
    "                j=j+1\n",
    "        \n",
    "        print()\n",
    "        i =i+1\n",
    "  \n",
    "n=int(input())\n",
    "Star_Zero(n)"
   ]
  },
  {
   "cell_type": "code",
   "execution_count": null,
   "metadata": {},
   "outputs": [],
   "source": [
    "Pyramid_Number\n",
    "=========\n",
    "n->4\n",
    "       1\n",
    "      212\n",
    "     32123\n",
    "    4321234\n",
    "    \n",
    "n->6\n",
    "         1\n",
    "        212\n",
    "       32123\n",
    "      4321234\n",
    "     543212345\n",
    "    65432123456"
   ]
  },
  {
   "cell_type": "code",
   "execution_count": null,
   "metadata": {},
   "outputs": [],
   "source": [
    "def Pyramid_Number(n):\n",
    "    i=1\n",
    "    while i<=n:\n",
    "        space=1\n",
    "        while space<=n-i:\n",
    "            print(\" \",end='')\n",
    "            space=space+1\n",
    "            \n",
    "        dec_no=i-1\n",
    "        while dec_no>=1:\n",
    "            print(dec_no+1,end='')\n",
    "            dec_no=dec_no-1\n",
    "            \n",
    "        j=n\n",
    "        while j==n:\n",
    "            print(\"1\",end='')\n",
    "            j=j+1\n",
    "        if i!=1:\n",
    "            p=2\n",
    "            while p<=i:\n",
    "                print(p,end='')\n",
    "                p=p+1\n",
    "                \n",
    "        print() \n",
    "        i=i+1\n",
    "        \n",
    "n=int(input())        \n",
    "Pyramid_Number(n)"
   ]
  },
  {
   "cell_type": "code",
   "execution_count": null,
   "metadata": {},
   "outputs": [],
   "source": [
    "Arrow_Pattern\n",
    "============\n",
    "n->7\n",
    "    * \n",
    "      * * \n",
    "        * * * \n",
    "          * * * * \n",
    "        * * * \n",
    "      * * \n",
    "    * "
   ]
  },
  {
   "cell_type": "code",
   "execution_count": null,
   "metadata": {},
   "outputs": [],
   "source": [
    "def space1(n):\n",
    "    i=1\n",
    "    while i<=n:\n",
    "        sp =1\n",
    "        while sp<i:\n",
    "            print(\" \",end=' ')\n",
    "            sp=sp+1\n",
    "            \n",
    "        star =1\n",
    "        while star<=i:\n",
    "            print(\"*\",end=' ')\n",
    "            star =star+1\n",
    "        \n",
    "        print()    \n",
    "        i=i+1\n",
    "\n",
    "def space2(n):\n",
    "    i=((n+1)//2)+1\n",
    "    while i<=n:\n",
    "        sp1 =1\n",
    "        while sp1<=n-i:\n",
    "            print(\" \",end=' ')\n",
    "            sp1=sp1+1\n",
    "        \n",
    "        star=1\n",
    "        while star<=(n-i)+1:\n",
    "            print(\"*\",end=' ')\n",
    "            star=star+1\n",
    "            \n",
    "        print()\n",
    "        i=i+1        \n",
    "        \n",
    "        \n",
    "def Arrow_Pattern(n):\n",
    "    n1=((n+1)//2)\n",
    "    space1(n1)\n",
    "    space2(n)\n",
    "    \n",
    "n=int(input())    \n",
    "Arrow_Pattern(n)"
   ]
  }
 ],
 "metadata": {
  "kernelspec": {
   "display_name": "Python 3",
   "language": "python",
   "name": "python3"
  },
  "language_info": {
   "codemirror_mode": {
    "name": "ipython",
    "version": 3
   },
   "file_extension": ".py",
   "mimetype": "text/x-python",
   "name": "python",
   "nbconvert_exporter": "python",
   "pygments_lexer": "ipython3",
   "version": "3.9.0"
  }
 },
 "nbformat": 4,
 "nbformat_minor": 4
}
