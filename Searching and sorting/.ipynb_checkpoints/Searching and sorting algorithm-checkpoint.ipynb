{
 "cells": [
  {
   "cell_type": "code",
   "execution_count": null,
   "metadata": {},
   "outputs": [],
   "source": [
    "def Binary_search(arr,n,x):\n",
    "    beg=0\n",
    "    end=n-1\n",
    "    if n==0:\n",
    "        return -1\n",
    "    pos=-1\n",
    "    while beg<=end:\n",
    "        mid=(beg+end)//2\n",
    "        if arr[mid]==x:\n",
    "            pos=mid\n",
    "            return pos\n",
    "        else:\n",
    "            if arr[mid]>x:\n",
    "                end=mid-1\n",
    "            else:    \n",
    "                beg=mid+1\n",
    "    return pos\n",
    "\n",
    "arr=[int(x) for x in input().strip().split(\" \")]\n",
    "n=int(input())\n",
    "x=int(input())\n",
    "print(Binary_search(arr,n,x))"
   ]
  },
  {
   "cell_type": "code",
   "execution_count": null,
   "metadata": {},
   "outputs": [],
   "source": [
    "def Selection_sort(arr):\n",
    "    l=len(arr)\n",
    "    for i in range(0,l-1):\n",
    "        for j in range(i+1,l):\n",
    "            if arr[i]>arr[j]:\n",
    "                arr[i],arr[j]=arr[j],arr[i]\n",
    "                pass\n",
    "   \n",
    "arr=[int(x) for x in input().strip().split(\" \")]\n",
    "Selection_sort(arr)\n",
    "print(arr)"
   ]
  },
  {
   "cell_type": "code",
   "execution_count": null,
   "metadata": {},
   "outputs": [],
   "source": [
    "def Bubble_sort(arr):\n",
    "    n= len(arr)\n",
    "    for i in range(0,n-1):\n",
    "        for j in range(0,n-i-1):\n",
    "            if arr[j]>arr[j+1]:\n",
    "                arr[j],arr[j+1]=arr[j+1],arr[j]\n",
    "arr=[int(x) for x in input().strip().split(\" \")]\n",
    "Bubble_sort(arr)\n",
    "print(arr)          "
   ]
  },
  {
   "cell_type": "code",
   "execution_count": null,
   "metadata": {},
   "outputs": [],
   "source": [
    "def Insertion_sort(arr):\n",
    "    n=len(arr)\n",
    "    for i in range(1,n):\n",
    "        temp=arr[i]\n",
    "        j=i-1\n",
    "        while j>=0:\n",
    "            if temp<arr[j]:\n",
    "                arr[j+1]=arr[j]\n",
    "                arr[j]=temp\n",
    "                temp=arr[j]\n",
    "            else:\n",
    "                pass\n",
    "            j=j-1\n",
    "                \n",
    "arr=[int(x) for x in input().strip().split(\" \")]\n",
    "Insertion_sort(arr)\n",
    "print(arr)                          "
   ]
  },
  {
   "cell_type": "code",
   "execution_count": 41,
   "metadata": {},
   "outputs": [
    {
     "name": "stdout",
     "output_type": "stream",
     "text": [
      "1 3 4 7 11\n",
      "2 4 6 13\n",
      "[1, 2, 3, 4, 4, 6, 7, 11, 13]\n"
     ]
    }
   ],
   "source": [
    "def Merge_sort(arr1,arr2):\n",
    "    n=len(arr1)\n",
    "    m=len(arr2)\n",
    "    arr3=[]\n",
    "    i=0\n",
    "    j=0\n",
    "    while i<n and j<m:\n",
    "        if arr1[i]<arr2[j]:\n",
    "            arr3.append(arr1[i])\n",
    "            i=i+1\n",
    "        else:\n",
    "            arr3.append(arr2[j])\n",
    "            j=j+1\n",
    "    while j>m or i<n:\n",
    "        arr3.append(arr1[i])\n",
    "        i=i+1\n",
    "    while i>n or j<m:    \n",
    "        arr3.append(arr2[j])\n",
    "        j=j+1\n",
    "        \n",
    "    return arr3    \n",
    "  \n",
    "arr1=[int(x) for x in input().strip().split(\" \")]\n",
    "arr2=[int(x) for x in input().strip().split(\" \")]\n",
    "print(Merge_sort(arr1,arr2))"
   ]
  },
  {
   "cell_type": "code",
   "execution_count": null,
   "metadata": {},
   "outputs": [],
   "source": []
  }
 ],
 "metadata": {
  "kernelspec": {
   "display_name": "Python 3",
   "language": "python",
   "name": "python3"
  },
  "language_info": {
   "codemirror_mode": {
    "name": "ipython",
    "version": 3
   },
   "file_extension": ".py",
   "mimetype": "text/x-python",
   "name": "python",
   "nbconvert_exporter": "python",
   "pygments_lexer": "ipython3",
   "version": "3.9.0"
  }
 },
 "nbformat": 4,
 "nbformat_minor": 4
}
