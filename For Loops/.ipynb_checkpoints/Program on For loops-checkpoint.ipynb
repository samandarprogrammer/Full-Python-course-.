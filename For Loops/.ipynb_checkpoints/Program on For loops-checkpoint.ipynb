{
 "cells": [
  {
   "cell_type": "code",
   "execution_count": null,
   "metadata": {
    "scrolled": true
   },
   "outputs": [],
   "source": [
    "def n_to_1(n):\n",
    "    for i in range(n,0,-1):\n",
    "        print(i)\n",
    "        \n",
    "n=int(input())\n",
    "n_to_1(n)"
   ]
  },
  {
   "cell_type": "code",
   "execution_count": null,
   "metadata": {
    "scrolled": true
   },
   "outputs": [],
   "source": [
    "def Mul_Of_3(a,b):\n",
    "    if a%3==0:  ##here we are checking the starting no. is multiple of 3 or not.If it is not we are checking that how much no. needed to be added.\n",
    "        s=a\n",
    "    elif a%3==1:\n",
    "        s=a+2\n",
    "    else:\n",
    "        s=a+1\n",
    "    for i in range(s,b+1,3):\n",
    "        print(i)\n",
    "        \n",
    "a=int(input())        \n",
    "b=int(input()) \n",
    "Mul_Of_3(a,b)"
   ]
  },
  {
   "cell_type": "code",
   "execution_count": null,
   "metadata": {
    "scrolled": true
   },
   "outputs": [],
   "source": [
    "def Is_Prime(n):\n",
    "    flag =False\n",
    "    for i in range(2,n):\n",
    "        if n%i==0:\n",
    "            flag=True\n",
    "            \n",
    "    if flag:\n",
    "        print(\"not prime\")\n",
    "    else:\n",
    "        print(\"Prime\")\n",
    "        \n",
    "n=int(input())\n",
    "Is_Prime(n)"
   ]
  },
  {
   "cell_type": "code",
   "execution_count": null,
   "metadata": {
    "scrolled": true
   },
   "outputs": [],
   "source": [
    "def Pyramid(n):\n",
    "    for i in range(1,n+1,1):\n",
    "        for s in range(1,n-i+1,1):\n",
    "            print(\" \",end='')\n",
    "        for j in range(i,2*i,1):\n",
    "            print(j,end='')\n",
    "        for j in range(2*i-2,i-1,-1):\n",
    "            print(j,end='')\n",
    "        print()\n",
    "        \n",
    "n=int(input())\n",
    "Pyramid(n)"
   ]
  },
  {
   "cell_type": "code",
   "execution_count": null,
   "metadata": {},
   "outputs": [],
   "source": [
    "##HERE NOW WE STUDY ABOUT KEYWORDS USED IN FOR LOOP\n",
    "1)break\n",
    "2)else(IT ACTUALLY MEANS WE ARE USING else WITH FOR LOOP OR WE CAN ALSO USE IT WITH FOR LOOP)\n",
    "3)continue"
   ]
  },
  {
   "cell_type": "code",
   "execution_count": null,
   "metadata": {
    "scrolled": true
   },
   "outputs": [],
   "source": [
    "##HERE WE CREATE A FUNCTION TO FIND PRIME NO. FROM 2 TO N USING FOR LOOP AND BREAK STATEMENT\n",
    "n=int(input())\n",
    "for d in range(2,n+1):\n",
    "    flag=False\n",
    "    for k in range(2,d):\n",
    "        if d%k==0:\n",
    "            flag =True\n",
    "            break\n",
    "    if (not(flag)):\n",
    "        print(d)"
   ]
  },
  {
   "cell_type": "code",
   "execution_count": null,
   "metadata": {
    "scrolled": true
   },
   "outputs": [],
   "source": [
    "##HERE WE CREATE A FUNCTION TO FIND PRIME NO. FROM 2 TO N USING WHILE LOOP AND BREAK STATEMENT\n",
    "\n",
    "n=int(input())\n",
    "d=2\n",
    "while d<=n:\n",
    "    k=2\n",
    "    flag = False\n",
    "    while k<d:\n",
    "        if d%k==0:\n",
    "            flag =True\n",
    "            break\n",
    "        k=k+1\n",
    "    if not(flag):\n",
    "        print(d)\n",
    "    d=d+1"
   ]
  },
  {
   "cell_type": "code",
   "execution_count": null,
   "metadata": {
    "scrolled": true
   },
   "outputs": [],
   "source": [
    "##HERE WE CREATE A FUNCTION TO FIND PRIME NO. FROM 2 TO N USING FOR LOOP, BREAK STATEMENT AND ELSE STATEMENT\n",
    "n=int(input())\n",
    "for d in range(2,n+1):\n",
    "    for k in range(2,d):\n",
    "        if d%k==0:\n",
    "            break\n",
    "    else:      ## here else will only working if the above given if statement not hit break.\n",
    "        print(d)"
   ]
  },
  {
   "cell_type": "code",
   "execution_count": null,
   "metadata": {
    "scrolled": true
   },
   "outputs": [],
   "source": [
    "##HERE WE CREATE A FUNCTION TO FIND PRIME NO. FROM 2 TO N USING WHILE LOOP , BREAK STATEMENT AND \n",
    "\n",
    "n=int(input())\n",
    "d=2\n",
    "while d<=n:\n",
    "    k=2\n",
    "    while k<d:\n",
    "        if d%k==0:\n",
    "            break\n",
    "        k=k+1\n",
    "    else:\n",
    "        print(d)\n",
    "    d=d+1"
   ]
  },
  {
   "cell_type": "code",
   "execution_count": null,
   "metadata": {},
   "outputs": [],
   "source": [
    "##here we use continue statement with for loop\n",
    "##here we first check that number is even or not and after that we are check that it is not the multiple of 7\n",
    "n=int(input())\n",
    "for i in range(1,n+1):\n",
    "    if i%2==0:\n",
    "        if i%7==0:\n",
    "            continue\n",
    "        print(i)    "
   ]
  },
  {
   "cell_type": "code",
   "execution_count": null,
   "metadata": {},
   "outputs": [],
   "source": [
    "##here we use continue statement with while loop\n",
    "##here we first check that number is even or not and after that we are check that it is not the multiple of 7\n",
    "n=int(input())\n",
    "i=1\n",
    "while i<=n:\n",
    "    if i%2==0:\n",
    "        if i%7==0:\n",
    "            continue\n",
    "        print(i)\n",
    "        i=i+1\n",
    "    else:\n",
    "        i=i+1    "
   ]
  },
  {
   "cell_type": "code",
   "execution_count": null,
   "metadata": {},
   "outputs": [],
   "source": [
    "Binary_pattern\n",
    "============\n",
    "n->4\n",
    "    1111\n",
    "    000\n",
    "    11\n",
    "    0"
   ]
  },
  {
   "cell_type": "code",
   "execution_count": null,
   "metadata": {},
   "outputs": [],
   "source": [
    "def Binary_pattern(n):\n",
    "    for i in range(1,n+1):\n",
    "        if i%2!=0:\n",
    "            for j in range(1,n-i+2):\n",
    "                print(\"1\",end='')\n",
    "        else:\n",
    "            for j in range(1,n-i+2):\n",
    "                print(\"0\",end='')\n",
    "        print()   \n",
    "        \n",
    "n=int(input())        \n",
    "Binary_pattern(n)"
   ]
  },
  {
   "cell_type": "code",
   "execution_count": null,
   "metadata": {},
   "outputs": [],
   "source": [
    "Number_pyramid\n",
    "=========\n",
    "n->4\n",
    "    1234\n",
    "     234\n",
    "      34\n",
    "       4\n",
    "      34\n",
    "     234\n",
    "    1234"
   ]
  },
  {
   "cell_type": "code",
   "execution_count": null,
   "metadata": {},
   "outputs": [],
   "source": [
    "def Number_pyramid(n):\n",
    "    for i in range(1,n+1):\n",
    "        p=i\n",
    "        for s in range(1,i-1+1):\n",
    "            print(\" \",end='')\n",
    "        for j in range(1,n-i+2):\n",
    "            print(p,end=\"\")\n",
    "            p=p+1\n",
    "        print()    \n",
    "    for i in range(n+1,2*n):\n",
    "        p=(2*n-1)-i+1\n",
    "        for s in range(1,(2*n-1)-i+1):\n",
    "            print(\" \",end='')    \n",
    "        for j in range(1,i-n+2):\n",
    "            print(p,end='')\n",
    "            p=p+1\n",
    "        print()    \n",
    "            \n",
    "n=int(input())    \n",
    "Number_pyramid(n)"
   ]
  },
  {
   "cell_type": "code",
   "execution_count": null,
   "metadata": {},
   "outputs": [],
   "source": [
    "Diamond_pattern\n",
    "==========\n",
    "n->5\n",
    "      *\n",
    "     ***\n",
    "    *****\n",
    "     ***\n",
    "      *"
   ]
  },
  {
   "cell_type": "code",
   "execution_count": null,
   "metadata": {},
   "outputs": [],
   "source": [
    "def Upper_part(n):\n",
    "    for i in range(1,n+1):\n",
    "        for s in range(1,n-i+1):\n",
    "            print(\" \",end='')\n",
    "        for st in range(1,2*i):\n",
    "            print(\"*\",end='')\n",
    "        print()    \n",
    "    \n",
    "def Lower_part(n):\n",
    "    for i in range(n,0,-1):\n",
    "        for s in range(1,n-i+2):\n",
    "            print(\" \",end='')\n",
    "        for st in range(1,2*i):\n",
    "            print(\"*\",end='')\n",
    "        print()     \n",
    "                \n",
    "def Diamond_pattern(n):\n",
    "    n1=(n+1)//2\n",
    "    n2=n1-1\n",
    "    Upper_part(n1)\n",
    "    Lower_part(n2)\n",
    "    \n",
    "n=int(input())   \n",
    "Diamond_pattern(n)"
   ]
  },
  {
   "cell_type": "code",
   "execution_count": null,
   "metadata": {},
   "outputs": [],
   "source": [
    "##UNSOLVED\n",
    "def Rectangular_pattern(n):\n",
    "    for i in range(1,2*n):\n",
    "        for j in range(1,2*n):\n",
    "            if i==1 or i==2*n-1:\n",
    "                print(n,end='')\n",
    "            if j==1 or j==2*n-1:\n",
    "                print(n,end='')\n",
    "        print()\n",
    "        \n",
    "        \n",
    "n=int(input())\n",
    "Rectangular_pattern(n)"
   ]
  },
  {
   "cell_type": "code",
   "execution_count": null,
   "metadata": {},
   "outputs": [],
   "source": [
    "##METHOD 1 AS WE USE MATRIX HERE.\n",
    "n=int(input())\n",
    "k=n*2-1\n",
    "value=n\n",
    "low=0\n",
    "high=k-1\n",
    "matrix = [[0 for i in range(k)] for j in range(k)]\n",
    "for i in range(n):\n",
    "    for j in range(low,high+1):\n",
    "        matrix[i][j]=value\n",
    "    for j in range(low+1,high+1):\n",
    "        matrix[j][i]=value\n",
    "    for j in range(low+1,high+1):\n",
    "        matrix[high][j]=value\n",
    "    for j in range(low+1,high):\n",
    "        matrix[j][high]=value\n",
    "        \n",
    "    print()    \n",
    "    low=low+1\n",
    "    high=high-1\n",
    "    value=value-1\n",
    "for i in range(k):\n",
    "    for j in range(k):\n",
    "        print(matrix[i][j],end=\"\")\n",
    "    print()    "
   ]
  },
  {
   "cell_type": "code",
   "execution_count": null,
   "metadata": {},
   "outputs": [],
   "source": [
    "##2ND METHOD WE USE    \n",
    "n = int(input())\n",
    "for i in range(1,n+1):\n",
    "    temp = n\n",
    "    for j in range(1,i):\n",
    "        print(temp,end=\"\")\n",
    "        temp = temp -1\n",
    "    for j in range(1,(2*n) - (2*i) + 2):\n",
    "        print(n-i+1,end=\"\")\n",
    "    for j in range(1,i):\n",
    "        temp = temp+1\n",
    "        print(temp,end=\"\")\n",
    "    print()\n",
    "for i in range(n-1,0,-1):\n",
    "    temp = n\n",
    "    for j in range(1,i):\n",
    "        print(temp,end=\"\")\n",
    "        temp = temp - 1\n",
    "    for j in range(1,(2*n) - (2*i) + 2):\n",
    "        print(n-i+1,end=\"\")\n",
    "    for j in range(1,i):\n",
    "        temp = temp+1\n",
    "        print(temp,end=\"\")\n",
    "    print()"
   ]
  },
  {
   "cell_type": "code",
   "execution_count": null,
   "metadata": {},
   "outputs": [],
   "source": [
    "##3RD METHOD WE USE HERE\n",
    "n = int(input())\n",
    "for i in range(2*n-1):\n",
    "    if i<n:\n",
    "        k=i\n",
    "    else:\n",
    "        k=2*(n-1)-i\n",
    "    for j in range(0,k):\n",
    "        print(n-j,end=\"\")\n",
    "    for j in range(0,2*(n-k)-1):\n",
    "        print(n-k,end=\"\")\n",
    "    for j in range(k-1,-1,-1):\n",
    "        print(n-j,end=\"\")\n",
    "    print()"
   ]
  },
  {
   "cell_type": "code",
   "execution_count": null,
   "metadata": {},
   "outputs": [],
   "source": [
    "##4th METHOD\n",
    "n = int(input()) #3\n",
    "num = n * 2 - 1  #5\n",
    "upper = num // 2 + 1  #4\n",
    "lower = num - upper   #1\n",
    "for i in range(upper, 0, -1):\n",
    "    j = upper #4\n",
    "    x = 1\n",
    "    while x <= upper - i:\n",
    "        print(j, end = '')\n",
    "        j -= 1\n",
    "        x += 1\n",
    "    print(str(i) * i, end = '')\n",
    "    print(str(i) * (i-1), end = '')\n",
    "    j = i + 1\n",
    "    while j <= upper:\n",
    "        print(j, end = '')\n",
    "        j += 1\n",
    "    print()\n",
    "for i in range(1, lower + 1):\n",
    "    j = lower + 1\n",
    "    while j >= i + 1:\n",
    "        print(j, end = '')\n",
    "        j -= 1\n",
    "    j = i + 1\n",
    "    \n",
    "    print(str(j) * i * 2, end = '')\n",
    "    j = i + 2\n",
    "    while j <= lower + 1:\n",
    "        print(j, end = '')\n",
    "        j += 1\n",
    "    print()  "
   ]
  },
  {
   "cell_type": "code",
   "execution_count": null,
   "metadata": {},
   "outputs": [],
   "source": [
    "Number_pattern\n",
    "==========\n",
    "n->4\n",
    "    1 2 3 4 \n",
    "    9 10 11 12 \n",
    "    13 14 15 16 \n",
    "    5 6 7 8 \n",
    "    \n",
    "n->7\n",
    "    1 2 3 4 5 6 7 \n",
    "    15 16 17 18 19 20 21 \n",
    "    29 30 31 32 33 34 35 \n",
    "    43 44 45 46 47 48 49 \n",
    "    36 37 38 39 40 41 42 \n",
    "    22 23 24 25 26 27 28 \n",
    "    8 9 10 11 12 13 14 "
   ]
  },
  {
   "cell_type": "code",
   "execution_count": null,
   "metadata": {},
   "outputs": [],
   "source": [
    "def Number_pattern(n):\n",
    "    if n%2==0:\n",
    "        n1=n//2\n",
    "        n2=n1+1\n",
    "        c=0\n",
    "        for i in range(1,n1+1):\n",
    "            p=n*c+1\n",
    "            for j in range(1,n+1):\n",
    "                print(p,end=' ')\n",
    "                p=p+1\n",
    "            c=c+2\n",
    "            print()\n",
    "    \n",
    "        k=n*(c-1) +1\n",
    "        for i in range(n2,n+1):\n",
    "            p=k\n",
    "            for j in range(1,n+1):\n",
    "                print(p,end=' ')\n",
    "                p=p+1\n",
    "            k=k-(n*2)\n",
    "            print()\n",
    "            \n",
    "    else:\n",
    "        n1=(n+1)//2\n",
    "        n2=n1+1\n",
    "        c=0\n",
    "        for i in range(1,n1+1):\n",
    "            p=n*c+1\n",
    "            for j in range(1,n+1):\n",
    "                print(p,end=' ')\n",
    "                p=p+1\n",
    "            c=c+2\n",
    "            print()\n",
    "        k=n*(c-2)-n+1\n",
    "        for i in range(n2,n+1):\n",
    "            p=k\n",
    "            for j in range(1,n+1):\n",
    "                print(p,end=' ')\n",
    "                p=p+1\n",
    "            k=k-(n*2)    \n",
    "            print()\n",
    "   \n",
    "n=int(input())\n",
    "Number_pattern(n)"
   ]
  }
 ],
 "metadata": {
  "kernelspec": {
   "display_name": "Python 3",
   "language": "python",
   "name": "python3"
  },
  "language_info": {
   "codemirror_mode": {
    "name": "ipython",
    "version": 3
   },
   "file_extension": ".py",
   "mimetype": "text/x-python",
   "name": "python",
   "nbconvert_exporter": "python",
   "pygments_lexer": "ipython3",
   "version": "3.9.0"
  }
 },
 "nbformat": 4,
 "nbformat_minor": 4
}
