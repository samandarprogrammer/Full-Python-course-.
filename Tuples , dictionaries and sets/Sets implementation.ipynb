{
 "cells": [
  {
   "cell_type": "code",
   "execution_count": 3,
   "metadata": {},
   "outputs": [
    {
     "name": "stdout",
     "output_type": "stream",
     "text": [
      "{1, 2, 3, 'apple', 'abc'}\n",
      "<class 'set'>\n"
     ]
    }
   ],
   "source": [
    "#How sets are implemented\n",
    "si={1,2,3,\"apple\",'abc'}\n",
    "print(si)\n",
    "print(type(si))"
   ]
  },
  {
   "cell_type": "code",
   "execution_count": 36,
   "metadata": {},
   "outputs": [
    {
     "data": {
      "text/plain": [
       "set()"
      ]
     },
     "execution_count": 36,
     "metadata": {},
     "output_type": "execute_result"
    }
   ],
   "source": [
    "#How to create an empty set\n",
    "s=set()\n",
    "s"
   ]
  },
  {
   "cell_type": "markdown",
   "metadata": {},
   "source": [
    "Here in sets we can't get value from indexing .We can only check for that \n",
    "value is present in sets or not."
   ]
  },
  {
   "cell_type": "code",
   "execution_count": 5,
   "metadata": {},
   "outputs": [
    {
     "data": {
      "text/plain": [
       "True"
      ]
     },
     "execution_count": 5,
     "metadata": {},
     "output_type": "execute_result"
    }
   ],
   "source": [
    "#How to check\n",
    "1 in si"
   ]
  },
  {
   "cell_type": "code",
   "execution_count": 35,
   "metadata": {},
   "outputs": [
    {
     "name": "stdout",
     "output_type": "stream",
     "text": [
      "1\n",
      "3\n",
      "apple\n",
      "abc\n"
     ]
    }
   ],
   "source": [
    "#For loop in sets\n",
    "for i in si:\n",
    "    print(i)"
   ]
  },
  {
   "cell_type": "code",
   "execution_count": 24,
   "metadata": {},
   "outputs": [
    {
     "name": "stdout",
     "output_type": "stream",
     "text": [
      "{1, 2, 3, 9, 'apple', 'abc'}\n"
     ]
    }
   ],
   "source": [
    "#How to add value within the set\n",
    "si.add(9)\n",
    "print(si)"
   ]
  },
  {
   "cell_type": "code",
   "execution_count": 25,
   "metadata": {},
   "outputs": [
    {
     "name": "stdout",
     "output_type": "stream",
     "text": [
      "{1, 2, 3, 'apple', 'abc'}\n"
     ]
    }
   ],
   "source": [
    "#How we can remove a value from sets\n",
    "si.remove(9)\n",
    "print(si)"
   ]
  },
  {
   "cell_type": "code",
   "execution_count": 29,
   "metadata": {},
   "outputs": [
    {
     "name": "stdout",
     "output_type": "stream",
     "text": [
      "None\n"
     ]
    },
    {
     "data": {
      "text/plain": [
       "{1, 3, 'abc', 'apple'}"
      ]
     },
     "execution_count": 29,
     "metadata": {},
     "output_type": "execute_result"
    }
   ],
   "source": [
    "#how to discard a value from sets without getting an error\n",
    "print(si.discard(2)) #It don't gives any error when we poinyt an invalid value\n",
    "si"
   ]
  },
  {
   "cell_type": "code",
   "execution_count": 20,
   "metadata": {},
   "outputs": [
    {
     "name": "stdout",
     "output_type": "stream",
     "text": [
      "{1, 2, 3, 4, 'new', 7, 8, 9, 'happy', 'apple'}\n"
     ]
    }
   ],
   "source": [
    "#How we can update a set from other sets.\n",
    "eg={1,2,3,4,'apple','happy'}\n",
    "eg1={9,8,7,\"new\"}\n",
    "eg.update(eg1)\n",
    "print(eg)"
   ]
  },
  {
   "cell_type": "code",
   "execution_count": 30,
   "metadata": {},
   "outputs": [
    {
     "name": "stdout",
     "output_type": "stream",
     "text": [
      "3\n",
      "{4, 'new', 7, 8, 9, 'happy', 'apple'}\n"
     ]
    }
   ],
   "source": [
    "#Another way of removing elements from set randomly\n",
    "print(eg.pop())\n",
    "print(eg)"
   ]
  },
  {
   "cell_type": "code",
   "execution_count": 32,
   "metadata": {},
   "outputs": [
    {
     "name": "stdout",
     "output_type": "stream",
     "text": [
      "{1, 2, 3, 45}\n",
      "set()\n"
     ]
    }
   ],
   "source": [
    "#how to clear a set\n",
    "trash={1,2,3,45}\n",
    "print(trash)\n",
    "trash.clear()\n",
    "print(trash)"
   ]
  },
  {
   "cell_type": "code",
   "execution_count": null,
   "metadata": {},
   "outputs": [],
   "source": [
    "#how to delete a set\n",
    "trash1={5,8,7,2,3,4}\n",
    "print(trash1)\n",
    "del trash1\n",
    "print(trash1) #here we get an error"
   ]
  }
 ],
 "metadata": {
  "kernelspec": {
   "display_name": "Python 3",
   "language": "python",
   "name": "python3"
  },
  "language_info": {
   "codemirror_mode": {
    "name": "ipython",
    "version": 3
   },
   "file_extension": ".py",
   "mimetype": "text/x-python",
   "name": "python",
   "nbconvert_exporter": "python",
   "pygments_lexer": "ipython3",
   "version": "3.9.0"
  }
 },
 "nbformat": 4,
 "nbformat_minor": 4
}
