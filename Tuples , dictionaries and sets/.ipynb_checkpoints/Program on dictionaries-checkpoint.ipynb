{
 "cells": [
  {
   "cell_type": "markdown",
   "metadata": {},
   "source": [
    "print those strings having frequency k"
   ]
  },
  {
   "cell_type": "code",
   "execution_count": 21,
   "metadata": {},
   "outputs": [
    {
     "name": "stdout",
     "output_type": "stream",
     "text": [
      "there are many many word of word\n",
      "5\n"
     ]
    }
   ],
   "source": [
    "def Print_K_freq_string(s,k):\n",
    "    words=s.split()\n",
    "    di={}\n",
    "    for w in words:\n",
    "        di[w]=di.get(w,0)+1\n",
    "    for w in di:\n",
    "        if di[w]==k:\n",
    "            print(w)\n",
    "s=input()\n",
    "k=int(input())\n",
    "Print_K_freq_string(s,k)"
   ]
  }
 ],
 "metadata": {
  "kernelspec": {
   "display_name": "Python 3",
   "language": "python",
   "name": "python3"
  },
  "language_info": {
   "codemirror_mode": {
    "name": "ipython",
    "version": 3
   },
   "file_extension": ".py",
   "mimetype": "text/x-python",
   "name": "python",
   "nbconvert_exporter": "python",
   "pygments_lexer": "ipython3",
   "version": "3.9.0"
  }
 },
 "nbformat": 4,
 "nbformat_minor": 4
}
