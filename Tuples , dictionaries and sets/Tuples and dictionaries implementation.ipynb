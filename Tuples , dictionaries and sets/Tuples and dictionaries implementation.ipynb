{
 "cells": [
  {
   "cell_type": "code",
   "execution_count": 36,
   "metadata": {},
   "outputs": [
    {
     "name": "stdout",
     "output_type": "stream",
     "text": [
      "(1, 2, 3, 4)\n",
      "1\n",
      "(2, 3, 4)\n"
     ]
    }
   ],
   "source": [
    "#Tuples \n",
    "tup=(1,2,3,4)\n",
    "print(tup)\n",
    "print(tup[0]) #Indexing access to tuple value\n",
    "print(tup[1:]) #Slicing"
   ]
  },
  {
   "cell_type": "code",
   "execution_count": 43,
   "metadata": {},
   "outputs": [
    {
     "name": "stdout",
     "output_type": "stream",
     "text": [
      "True\n",
      "False\n"
     ]
    }
   ],
   "source": [
    "#Check whether the element is in tuple or not\n",
    "a=1 in tup\n",
    "print(a)\n",
    "b=7 in tup\n",
    "print(b)"
   ]
  },
  {
   "cell_type": "code",
   "execution_count": null,
   "metadata": {},
   "outputs": [],
   "source": [
    "#How we can delete a tuple\n",
    "a=(1,2,3)\n",
    "print(a)\n",
    "del a\n",
    "print(a) #It gives an error"
   ]
  },
  {
   "cell_type": "code",
   "execution_count": 7,
   "metadata": {},
   "outputs": [
    {
     "data": {
      "text/plain": [
       "10"
      ]
     },
     "execution_count": 7,
     "metadata": {},
     "output_type": "execute_result"
    }
   ],
   "source": [
    "def sum(tp):\n",
    "    sum=0\n",
    "    for i in tp:\n",
    "        sum+=i\n",
    "    return sum\n",
    "tp=(1,2,3,4)\n",
    "sum(tp)"
   ]
  },
  {
   "cell_type": "code",
   "execution_count": 17,
   "metadata": {},
   "outputs": [
    {
     "data": {
      "text/plain": [
       "21"
      ]
     },
     "execution_count": 17,
     "metadata": {},
     "output_type": "execute_result"
    }
   ],
   "source": [
    "def sum1(a,b,*etc): #Way to take variable length of argument variable\n",
    "    sum=a+b\n",
    "    for i in etc:\n",
    "        sum+=i\n",
    "    return sum\n",
    "a=5\n",
    "b=6\n",
    "sum1(a,b,1,2,3,4)"
   ]
  },
  {
   "cell_type": "code",
   "execution_count": 19,
   "metadata": {},
   "outputs": [
    {
     "name": "stdout",
     "output_type": "stream",
     "text": [
      "<class 'tuple'>\n"
     ]
    }
   ],
   "source": [
    "a=1,2,3     #Another way of defining tuple\n",
    "print(type(a))"
   ]
  },
  {
   "cell_type": "code",
   "execution_count": 22,
   "metadata": {},
   "outputs": [
    {
     "name": "stdout",
     "output_type": "stream",
     "text": [
      "(1, 2)\n",
      "(2, 3)\n"
     ]
    }
   ],
   "source": [
    "a=1,2\n",
    "b=(2,3)\n",
    "d=(a,b)\n",
    "print(d[0])\n",
    "print(d[1])"
   ]
  },
  {
   "cell_type": "markdown",
   "metadata": {},
   "source": [
    "NOW WE TALK ABOUT DICTIONARIES "
   ]
  },
  {
   "cell_type": "code",
   "execution_count": 79,
   "metadata": {},
   "outputs": [
    {
     "name": "stdout",
     "output_type": "stream",
     "text": [
      "{'key': 'value', 'apple': 100, 'love': 'fear', 'banana': 25.25}\n",
      "{'key': 'value', 'apple': 100, 'list': [1, 2, 3], 'di': {'happy': 100}, 'banana': 25.25}\n"
     ]
    }
   ],
   "source": [
    "#Implementation1\n",
    "di={\"key\": 'value', \"apple\": 100,\"love\": 'fear' , 'banana': 25.25}\n",
    "print(di)\n",
    "dil={\"key\": 'value', \"apple\": 100,'list':[1,2,3] ,'di': {'happy':100}, 'banana': 25.25}\n",
    "print(dil)"
   ]
  },
  {
   "cell_type": "code",
   "execution_count": 29,
   "metadata": {},
   "outputs": [
    {
     "data": {
      "text/plain": [
       "{'key': 'values', 'be': 'confident', 'momos': 100}"
      ]
     },
     "execution_count": 29,
     "metadata": {},
     "output_type": "execute_result"
    }
   ],
   "source": [
    "#Implementation2\n",
    "di1=dict([(\"key\" ,'values'),(\"be\" , 'confident'),(\"momos\", 100)])\n",
    "di1"
   ]
  },
  {
   "cell_type": "code",
   "execution_count": 35,
   "metadata": {},
   "outputs": [
    {
     "name": "stdout",
     "output_type": "stream",
     "text": [
      "{'apple': None, 22: None, 65: None}\n",
      "{'apple': 5, 22: 5, 65: 5}\n"
     ]
    }
   ],
   "source": [
    "#Implementation3\n",
    "di2= dict.fromkeys(['apple' ,22, 65,]) #Here you can see that we don't give any value to keys that's why it is none\n",
    "print(di2)\n",
    "di3= dict.fromkeys(['apple' ,22, 65,],5) #Now to give a common value we can do like that\n",
    "print(di3)"
   ]
  },
  {
   "cell_type": "markdown",
   "metadata": {},
   "source": [
    "How to access dictionaries and its related functions"
   ]
  },
  {
   "cell_type": "code",
   "execution_count": 78,
   "metadata": {},
   "outputs": [
    {
     "name": "stdout",
     "output_type": "stream",
     "text": [
      "value\n",
      "100\n",
      "None\n",
      "None 0\n"
     ]
    },
    {
     "data": {
      "text/plain": [
       "{'key': 'value',\n",
       " 'apple': 100,\n",
       " 'list': [1, 2, 3],\n",
       " 'di': {'happy': 100},\n",
       " 'banana': 25.25}"
      ]
     },
     "execution_count": 78,
     "metadata": {},
     "output_type": "execute_result"
    }
   ],
   "source": [
    "di={\"key\": 'value', \"apple\": 100,'list':[1,2,3] ,'di': {'happy':100}, 'banana': 25.25}\n",
    "print(di['key']) #1st way\n",
    "print(di.get('apple')) #2nd way of accessing it\n",
    "print(di.get('ape'))    #Here default value is None\n",
    "print(di.get('ape'),0)   #Here default value is changed to 0\n",
    "print(di)"
   ]
  },
  {
   "cell_type": "markdown",
   "metadata": {},
   "source": [
    "Now the difference between di['key'] and di.get(\"apple\") is that when we pass an invalid value in it \n",
    "1st method will give an error but .get() method will not give any error ,it gives None as default\n",
    "and we can also modify that default value by passing 2nd argument as our default value"
   ]
  },
  {
   "cell_type": "code",
   "execution_count": 51,
   "metadata": {},
   "outputs": [
    {
     "name": "stdout",
     "output_type": "stream",
     "text": [
      "dict_keys(['key', 'apple', 'love', 'banana'])\n"
     ]
    }
   ],
   "source": [
    "#Way to get all keys from dictionary\n",
    "print(di.keys())"
   ]
  },
  {
   "cell_type": "code",
   "execution_count": 53,
   "metadata": {},
   "outputs": [
    {
     "name": "stdout",
     "output_type": "stream",
     "text": [
      "dict_values(['value', 100, 'fear', 25.25])\n"
     ]
    }
   ],
   "source": [
    "#Way to get all value from dictionary\n",
    "print(di.values())"
   ]
  },
  {
   "cell_type": "code",
   "execution_count": 55,
   "metadata": {},
   "outputs": [
    {
     "name": "stdout",
     "output_type": "stream",
     "text": [
      "dict_items([('key', 'value'), ('apple', 100), ('love', 'fear'), ('banana', 25.25)])\n"
     ]
    }
   ],
   "source": [
    "#Way to get all items from dictionary\n",
    "print(di.items())"
   ]
  },
  {
   "cell_type": "markdown",
   "metadata": {},
   "source": [
    "How for loop is used with dictionaries\n"
   ]
  },
  {
   "cell_type": "code",
   "execution_count": 58,
   "metadata": {},
   "outputs": [
    {
     "name": "stdout",
     "output_type": "stream",
     "text": [
      "key\n",
      "apple\n",
      "love\n",
      "banana\n",
      "1\n",
      "5\n"
     ]
    }
   ],
   "source": [
    "di1={\"key\": 'value', \"apple\": 100,\"love\": 'fear' , 'banana': 25.25,1:2,5:9}\n",
    "for i in di1: #with that syntax we only get keys from dictionaries\n",
    "    print(i)  "
   ]
  },
  {
   "cell_type": "code",
   "execution_count": 60,
   "metadata": {},
   "outputs": [
    {
     "name": "stdout",
     "output_type": "stream",
     "text": [
      "key value\n",
      "apple 100\n",
      "love fear\n",
      "banana 25.25\n",
      "1 2\n",
      "5 9\n"
     ]
    }
   ],
   "source": [
    "for i in di1:  #with that we get keys and values of dictionaries\n",
    "    print(i,di1[i])"
   ]
  },
  {
   "cell_type": "code",
   "execution_count": 62,
   "metadata": {},
   "outputs": [
    {
     "name": "stdout",
     "output_type": "stream",
     "text": [
      "value\n",
      "100\n",
      "fear\n",
      "25.25\n",
      "2\n",
      "9\n"
     ]
    }
   ],
   "source": [
    "for i in di1.values():  #With that syntax we only get values from dictionaries\n",
    "    print(i)"
   ]
  },
  {
   "cell_type": "markdown",
   "metadata": {},
   "source": [
    "HOW TO CHECK VALUE IS PRESENT IN DICTIONARY OR NOT"
   ]
  },
  {
   "cell_type": "code",
   "execution_count": 65,
   "metadata": {},
   "outputs": [
    {
     "data": {
      "text/plain": [
       "True"
      ]
     },
     "execution_count": 65,
     "metadata": {},
     "output_type": "execute_result"
    }
   ],
   "source": [
    "#same as tuple checking and we can only check for keys present dictionaries\n",
    "'key' in di1 "
   ]
  },
  {
   "cell_type": "markdown",
   "metadata": {},
   "source": [
    "HOW TO MODIFY,UPDATE,ADD,DELETE AND OPERATIONS LIKE THAT IN DICTIONARIES"
   ]
  },
  {
   "cell_type": "code",
   "execution_count": 84,
   "metadata": {},
   "outputs": [
    {
     "name": "stdout",
     "output_type": "stream",
     "text": [
      "{'key': 'value', 'apple': 100, 'list': [1, 2, 3], 'di': {'happy': 100}, 'banana': 25.25, 'new': 'data', 'tpp': (1, 2, 3), 'di1': {200}}\n"
     ]
    }
   ],
   "source": [
    "#Add data in dictionary\n",
    "di={\"key\": 'value', \"apple\": 100,'list':[1,2,3] ,'di': {'happy':100}, 'banana': 25.25}\n",
    "di['new']='data'\n",
    "di['tpp']=(1,2,3) #here we add tuple\n",
    "di['di1']={200}  #here we add dictionary\n",
    "print(di)"
   ]
  },
  {
   "cell_type": "code",
   "execution_count": 83,
   "metadata": {},
   "outputs": [
    {
     "name": "stdout",
     "output_type": "stream",
     "text": [
      "{'key': 'values', 'apple': 100, 'list': [1, 2, 3], 'di': {'happy': 100}, 'banana': 25.25, 'new': 'data'}\n"
     ]
    }
   ],
   "source": [
    "#MOdify an available data\n",
    "di['key'] = 'values'\n",
    "print(di)"
   ]
  },
  {
   "cell_type": "code",
   "execution_count": 86,
   "metadata": {},
   "outputs": [
    {
     "name": "stdout",
     "output_type": "stream",
     "text": [
      "{1: 5, 3: 4, 'grapes': 80, 'uncle': 'aunty'}\n"
     ]
    }
   ],
   "source": [
    "#Update dictionary with the help of other dictionary,it actually works as union function\n",
    "a={1:2,3:4,'grapes':80}\n",
    "b={1:5,\"uncle\":'aunty'}\n",
    "a.update(b)  \n",
    "print(a)"
   ]
  },
  {
   "cell_type": "code",
   "execution_count": 98,
   "metadata": {},
   "outputs": [
    {
     "name": "stdout",
     "output_type": "stream",
     "text": [
      "{1: 2, 'sd': 'ms', 5: 6, 'msd': 5}\n",
      "{'sd': 'ms', 5: 6, 'msd': 5}\n",
      "{'sd': 'ms', 5: 6}\n"
     ]
    }
   ],
   "source": [
    "#HOW TO DEL OR POP A specify key from dictionaries\n",
    "eg={1:2,'sd':'ms',5:6,'msd':5}\n",
    "print(eg)\n",
    "eg.pop(1) #here is a pop function\n",
    "print(eg)\n",
    "del eg['msd'] #here del function\n",
    "print(eg)"
   ]
  },
  {
   "cell_type": "code",
   "execution_count": 100,
   "metadata": {},
   "outputs": [
    {
     "name": "stdout",
     "output_type": "stream",
     "text": [
      "{1: 2, 6: 4}\n",
      "{}\n"
     ]
    }
   ],
   "source": [
    "#HOw to clear or clean a dictionary\n",
    "egg={1:2,6:4}\n",
    "print(egg)\n",
    "egg.clear()\n",
    "print(egg)"
   ]
  },
  {
   "cell_type": "code",
   "execution_count": 101,
   "metadata": {},
   "outputs": [
    {
     "ename": "NameError",
     "evalue": "name 'trash' is not defined",
     "output_type": "error",
     "traceback": [
      "\u001b[1;31m---------------------------------------------------------------------------\u001b[0m",
      "\u001b[1;31mNameError\u001b[0m                                 Traceback (most recent call last)",
      "\u001b[1;32m<ipython-input-101-a98c7c33a09c>\u001b[0m in \u001b[0;36m<module>\u001b[1;34m\u001b[0m\n\u001b[0;32m      2\u001b[0m \u001b[0mtrash\u001b[0m\u001b[1;33m=\u001b[0m\u001b[1;33m{\u001b[0m\u001b[1;36m4\u001b[0m\u001b[1;33m:\u001b[0m\u001b[1;36m5\u001b[0m\u001b[1;33m,\u001b[0m\u001b[1;36m6\u001b[0m\u001b[1;33m:\u001b[0m\u001b[1;36m8\u001b[0m\u001b[1;33m}\u001b[0m\u001b[1;33m\u001b[0m\u001b[1;33m\u001b[0m\u001b[0m\n\u001b[0;32m      3\u001b[0m \u001b[1;32mdel\u001b[0m \u001b[0mtrash\u001b[0m\u001b[1;33m\u001b[0m\u001b[1;33m\u001b[0m\u001b[0m\n\u001b[1;32m----> 4\u001b[1;33m \u001b[0mprint\u001b[0m\u001b[1;33m(\u001b[0m\u001b[0mtrash\u001b[0m\u001b[1;33m)\u001b[0m\u001b[1;33m\u001b[0m\u001b[1;33m\u001b[0m\u001b[0m\n\u001b[0m",
      "\u001b[1;31mNameError\u001b[0m: name 'trash' is not defined"
     ]
    }
   ],
   "source": [
    "#how to delete a dictionary\n",
    "trash={4:5,6:8}\n",
    "del trash\n",
    "print(trash) #it gives an error"
   ]
  }
 ],
 "metadata": {
  "kernelspec": {
   "display_name": "Python 3",
   "language": "python",
   "name": "python3"
  },
  "language_info": {
   "codemirror_mode": {
    "name": "ipython",
    "version": 3
   },
   "file_extension": ".py",
   "mimetype": "text/x-python",
   "name": "python",
   "nbconvert_exporter": "python",
   "pygments_lexer": "ipython3",
   "version": "3.9.0"
  }
 },
 "nbformat": 4,
 "nbformat_minor": 4
}
