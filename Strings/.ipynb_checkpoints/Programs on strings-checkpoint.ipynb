{
 "cells": [
  {
   "cell_type": "code",
   "execution_count": null,
   "metadata": {},
   "outputs": [],
   "source": [
    "def isPalindrome(string):\n",
    "    st=string[::-1]\n",
    "    if string==st:\n",
    "        return True\n",
    "    else:\n",
    "        False\n",
    "        \n",
    "string=input()\n",
    "ans=isPalindrome(string)\n",
    "if ans:\n",
    "    print('true')\n",
    "else:\n",
    "    print(\"false\")"
   ]
  },
  {
   "cell_type": "code",
   "execution_count": null,
   "metadata": {},
   "outputs": [],
   "source": [
    "def Replace(string,char1,char2):\n",
    "    newstr=\"\"\n",
    "    for char in string:\n",
    "        if char==char1:\n",
    "            newstr+=char2\n",
    "        else:    \n",
    "            newstr+=char\n",
    "    return newstr\n",
    "\n",
    "string=input()\n",
    "char1=input()\n",
    "char2=input()\n",
    "string=Replace(string,char1,char2)\n",
    "print(string)"
   ]
  },
  {
   "cell_type": "code",
   "execution_count": null,
   "metadata": {},
   "outputs": [],
   "source": [
    "#This function is used to find number of vowels ,consonants ,digits and special characters\n",
    "def VCDS(string):\n",
    "    v,c,d,s=0,0,0,0\n",
    "    for char in string:\n",
    "        if char>='a' and char<=\"z\" or char>=\"A\" and char<=\"Z\":\n",
    "            char=char.lower()\n",
    "            if char=='a' or char=='e' or char=='i' or char=='o' or char =='u':\n",
    "                v+=1\n",
    "            else:c+=1    \n",
    "        elif char>='0' and char<='9':\n",
    "            d+=1\n",
    "        else:\n",
    "            s+=1\n",
    "    return v,c,d,s        \n",
    "           \n",
    "string=input()\n",
    "v,c,d,s=VCDS(string)\n",
    "print(v,c,d,s)"
   ]
  },
  {
   "cell_type": "code",
   "execution_count": null,
   "metadata": {},
   "outputs": [],
   "source": [
    "def isPermutation(string1,string2):\n",
    "    array_size=256\n",
    "    f_arr=array_size*[0]\n",
    "    n=len(string1)\n",
    "    m=len(string2)\n",
    "    flag=False\n",
    "    if n==m:\n",
    "        for i in range(n):\n",
    "            index=ord(string1[i])\n",
    "            f_arr[index]=f_arr[index]+1\n",
    "        for j in range(m):\n",
    "            index=ord(string2[j])\n",
    "            f_arr[index]=f_arr[index]-1\n",
    "        for k in f_arr:\n",
    "            if k==0:\n",
    "                flag=True\n",
    "            else:\n",
    "                flag=False\n",
    "                break\n",
    "        if flag:\n",
    "            print(\"true\")\n",
    "        else:\n",
    "            print(\"false\")\n",
    "     \n",
    "string1=input()  \n",
    "string2=input()\n",
    "isPermutation(string1,string2)    "
   ]
  },
  {
   "cell_type": "code",
   "execution_count": null,
   "metadata": {},
   "outputs": [],
   "source": []
  },
  {
   "cell_type": "code",
   "execution_count": null,
   "metadata": {},
   "outputs": [],
   "source": []
  },
  {
   "cell_type": "code",
   "execution_count": null,
   "metadata": {},
   "outputs": [],
   "source": []
  },
  {
   "cell_type": "code",
   "execution_count": null,
   "metadata": {},
   "outputs": [],
   "source": []
  },
  {
   "cell_type": "code",
   "execution_count": 4,
   "metadata": {},
   "outputs": [
    {
     "name": "stdout",
     "output_type": "stream",
     "text": [
      "aaaaaaaaaaaa\n",
      "a\n"
     ]
    }
   ],
   "source": [
    "def removeConsecutiveDuplicates(string):\n",
    "    b=\"\"\n",
    "    for ele in string:\n",
    "        if ele not in b:\n",
    "            b+=ele\n",
    "        elif ele!=b[len(b)-1]:\n",
    "            b+=ele\n",
    "    return b     \n",
    "string=input()\n",
    "ans=removeConsecutiveDuplicates(string)\n",
    "print(ans)"
   ]
  },
  {
   "cell_type": "code",
   "execution_count": null,
   "metadata": {},
   "outputs": [],
   "source": [
    "def reverseEachWord(string):\n",
    "    st1=string.split()\n",
    "    st2=''\n",
    "    for i in st1:\n",
    "        st2+=i[::-1]+\" \"\n",
    "    return st2    \n",
    "    \n",
    "string=input()    \n",
    "ans=reverseEachWord(string)\n",
    "print(ans)"
   ]
  },
  {
   "cell_type": "code",
   "execution_count": 102,
   "metadata": {},
   "outputs": [
    {
     "name": "stdout",
     "output_type": "stream",
     "text": [
      "aaabbbccc\n"
     ]
    },
    {
     "ename": "KeyboardInterrupt",
     "evalue": "Interrupted by user",
     "output_type": "error",
     "traceback": [
      "\u001b[1;31m---------------------------------------------------------------------------\u001b[0m",
      "\u001b[1;31mKeyboardInterrupt\u001b[0m                         Traceback (most recent call last)",
      "\u001b[1;32m<ipython-input-102-9dd094d3a641>\u001b[0m in \u001b[0;36m<module>\u001b[1;34m\u001b[0m\n\u001b[0;32m      8\u001b[0m     \u001b[1;32mreturn\u001b[0m \u001b[0mstring\u001b[0m\u001b[1;33m\u001b[0m\u001b[1;33m\u001b[0m\u001b[0m\n\u001b[0;32m      9\u001b[0m \u001b[0mstring\u001b[0m\u001b[1;33m=\u001b[0m\u001b[0minput\u001b[0m\u001b[1;33m(\u001b[0m\u001b[1;33m)\u001b[0m\u001b[1;33m\u001b[0m\u001b[1;33m\u001b[0m\u001b[0m\n\u001b[1;32m---> 10\u001b[1;33m \u001b[0mch\u001b[0m\u001b[1;33m=\u001b[0m\u001b[0minput\u001b[0m\u001b[1;33m(\u001b[0m\u001b[1;33m)\u001b[0m\u001b[1;33m\u001b[0m\u001b[1;33m\u001b[0m\u001b[0m\n\u001b[0m\u001b[0;32m     11\u001b[0m \u001b[0mans\u001b[0m\u001b[1;33m=\u001b[0m\u001b[0mremoveAllOccurrencesOfChar\u001b[0m\u001b[1;33m(\u001b[0m\u001b[0mstring\u001b[0m\u001b[1;33m,\u001b[0m\u001b[0mch\u001b[0m\u001b[1;33m)\u001b[0m\u001b[1;33m\u001b[0m\u001b[1;33m\u001b[0m\u001b[0m\n\u001b[0;32m     12\u001b[0m \u001b[0mprint\u001b[0m\u001b[1;33m(\u001b[0m\u001b[0mans\u001b[0m\u001b[1;33m)\u001b[0m\u001b[1;33m\u001b[0m\u001b[1;33m\u001b[0m\u001b[0m\n",
      "\u001b[1;32mc:\\users\\sandeep\\appdata\\local\\programs\\python\\python39\\lib\\site-packages\\ipykernel\\kernelbase.py\u001b[0m in \u001b[0;36mraw_input\u001b[1;34m(self, prompt)\u001b[0m\n\u001b[0;32m    855\u001b[0m                 \u001b[1;34m\"raw_input was called, but this frontend does not support input requests.\"\u001b[0m\u001b[1;33m\u001b[0m\u001b[1;33m\u001b[0m\u001b[0m\n\u001b[0;32m    856\u001b[0m             )\n\u001b[1;32m--> 857\u001b[1;33m         return self._input_request(str(prompt),\n\u001b[0m\u001b[0;32m    858\u001b[0m             \u001b[0mself\u001b[0m\u001b[1;33m.\u001b[0m\u001b[0m_parent_ident\u001b[0m\u001b[1;33m,\u001b[0m\u001b[1;33m\u001b[0m\u001b[1;33m\u001b[0m\u001b[0m\n\u001b[0;32m    859\u001b[0m             \u001b[0mself\u001b[0m\u001b[1;33m.\u001b[0m\u001b[0m_parent_header\u001b[0m\u001b[1;33m,\u001b[0m\u001b[1;33m\u001b[0m\u001b[1;33m\u001b[0m\u001b[0m\n",
      "\u001b[1;32mc:\\users\\sandeep\\appdata\\local\\programs\\python\\python39\\lib\\site-packages\\ipykernel\\kernelbase.py\u001b[0m in \u001b[0;36m_input_request\u001b[1;34m(self, prompt, ident, parent, password)\u001b[0m\n\u001b[0;32m    899\u001b[0m             \u001b[1;32mexcept\u001b[0m \u001b[0mKeyboardInterrupt\u001b[0m\u001b[1;33m:\u001b[0m\u001b[1;33m\u001b[0m\u001b[1;33m\u001b[0m\u001b[0m\n\u001b[0;32m    900\u001b[0m                 \u001b[1;31m# re-raise KeyboardInterrupt, to truncate traceback\u001b[0m\u001b[1;33m\u001b[0m\u001b[1;33m\u001b[0m\u001b[1;33m\u001b[0m\u001b[0m\n\u001b[1;32m--> 901\u001b[1;33m                 \u001b[1;32mraise\u001b[0m \u001b[0mKeyboardInterrupt\u001b[0m\u001b[1;33m(\u001b[0m\u001b[1;34m\"Interrupted by user\"\u001b[0m\u001b[1;33m)\u001b[0m \u001b[1;32mfrom\u001b[0m \u001b[1;32mNone\u001b[0m\u001b[1;33m\u001b[0m\u001b[1;33m\u001b[0m\u001b[0m\n\u001b[0m\u001b[0;32m    902\u001b[0m             \u001b[1;32mexcept\u001b[0m \u001b[0mException\u001b[0m \u001b[1;32mas\u001b[0m \u001b[0me\u001b[0m\u001b[1;33m:\u001b[0m\u001b[1;33m\u001b[0m\u001b[1;33m\u001b[0m\u001b[0m\n\u001b[0;32m    903\u001b[0m                 \u001b[0mself\u001b[0m\u001b[1;33m.\u001b[0m\u001b[0mlog\u001b[0m\u001b[1;33m.\u001b[0m\u001b[0mwarning\u001b[0m\u001b[1;33m(\u001b[0m\u001b[1;34m\"Invalid Message:\"\u001b[0m\u001b[1;33m,\u001b[0m \u001b[0mexc_info\u001b[0m\u001b[1;33m=\u001b[0m\u001b[1;32mTrue\u001b[0m\u001b[1;33m)\u001b[0m\u001b[1;33m\u001b[0m\u001b[1;33m\u001b[0m\u001b[0m\n",
      "\u001b[1;31mKeyboardInterrupt\u001b[0m: Interrupted by user"
     ]
    }
   ],
   "source": [
    "def removeAllOccurrencesOfChar(string,ch):\n",
    "    for i in string:\n",
    "        if i==ch:\n",
    "            string=string.replace(i,\"\")\n",
    "            break\n",
    "        else:\n",
    "            pass\n",
    "    return string\n",
    "string=input()\n",
    "ch=input()\n",
    "ans=removeAllOccurrencesOfChar(string,ch)\n",
    "print(ans)"
   ]
  },
  {
   "cell_type": "code",
   "execution_count": 79,
   "metadata": {},
   "outputs": [
    {
     "name": "stdout",
     "output_type": "stream",
     "text": [
      "abcdeapapqarr\n",
      "a\n"
     ]
    }
   ],
   "source": [
    "#1st approch to solve highestOccuringChar\n",
    "def highestOccuringChar(string):\n",
    "    array_size=256\n",
    "    f_arr=array_size*[0]\n",
    "    n=len(string)\n",
    "    for i in range(n):\n",
    "        index=ord(string[i])\n",
    "        f_arr[index]=f_arr[index]+1\n",
    "    high_frequency_no=max(f_arr)\n",
    "    index1=f_arr.index(high_frequency_no)\n",
    "    return chr(index1)\n",
    "string=input()\n",
    "ans=highestOccuringChar(string)      \n",
    "print(ans)"
   ]
  },
  {
   "cell_type": "code",
   "execution_count": 85,
   "metadata": {},
   "outputs": [
    {
     "name": "stdout",
     "output_type": "stream",
     "text": [
      "aabbb\n",
      "b\n"
     ]
    }
   ],
   "source": [
    "#2nd approch for highestOccuringChar\n",
    "def highestOccuringChar1(string):\n",
    "    array_size=256\n",
    "    f_arr=array_size*[0]\n",
    "    n=len(string)\n",
    "    for i in range(n):\n",
    "        index=ord(string[i])\n",
    "        f_arr[index]=f_arr[index]+1\n",
    "    ans=string[0]\n",
    "    count=f_arr[ord(ans)]\n",
    "    for j in range(1,n):\n",
    "        count1=f_arr[ord(string[j])]\n",
    "        if count1>count:\n",
    "            count=count1\n",
    "            ans=string[j]\n",
    "        else:\n",
    "            pass\n",
    "    return ans   \n",
    "string=input()\n",
    "ans=highestOccuringChar1(string)      \n",
    "print(ans)        "
   ]
  },
  {
   "cell_type": "code",
   "execution_count": 106,
   "metadata": {},
   "outputs": [
    {
     "name": "stdout",
     "output_type": "stream",
     "text": [
      "xxxxxxxxx\n",
      "9x\n"
     ]
    }
   ],
   "source": [
    "def getCompressedString(string):\n",
    "    array_size=256\n",
    "    f_arr=array_size*[0]\n",
    "    n=len(string)\n",
    "    for i in range(n):\n",
    "        index=ord(string[i])\n",
    "        f_arr[index]=f_arr[index]+1    \n",
    "    st=''    \n",
    "    for j in f_arr:\n",
    "        if j>1:\n",
    "            index1=f_arr.index(j)\n",
    "            st+=str(j)+chr(index1)\n",
    "        if j==1:\n",
    "            index1=f_arr.index(j)\n",
    "            st+=chr(index1)\n",
    "        else:\n",
    "            pass\n",
    "    return st\n",
    "string=input()\n",
    "ans=getCompressedString(string)\n",
    "print(ans)"
   ]
  },
  {
   "cell_type": "code",
   "execution_count": 97,
   "metadata": {},
   "outputs": [
    {
     "data": {
      "text/plain": [
       "'\\x00'"
      ]
     },
     "execution_count": 97,
     "metadata": {},
     "output_type": "execute_result"
    }
   ],
   "source": [
    "chr(0)"
   ]
  }
 ],
 "metadata": {
  "kernelspec": {
   "display_name": "Python 3",
   "language": "python",
   "name": "python3"
  },
  "language_info": {
   "codemirror_mode": {
    "name": "ipython",
    "version": 3
   },
   "file_extension": ".py",
   "mimetype": "text/x-python",
   "name": "python",
   "nbconvert_exporter": "python",
   "pygments_lexer": "ipython3",
   "version": "3.9.0"
  }
 },
 "nbformat": 4,
 "nbformat_minor": 4
}
