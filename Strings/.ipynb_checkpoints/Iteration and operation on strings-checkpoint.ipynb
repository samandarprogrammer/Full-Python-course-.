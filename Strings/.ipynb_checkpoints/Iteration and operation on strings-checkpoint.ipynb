{
 "cells": [
  {
   "cell_type": "markdown",
   "metadata": {},
   "source": [
    "How to iterate through strings"
   ]
  },
  {
   "cell_type": "code",
   "execution_count": null,
   "metadata": {},
   "outputs": [],
   "source": [
    "st=\"sandeep\""
   ]
  },
  {
   "cell_type": "code",
   "execution_count": null,
   "metadata": {},
   "outputs": [],
   "source": [
    "count=0\n",
    "for i in st:\n",
    "    if i=='e':\n",
    "        count=count+1\n",
    "print(count)        "
   ]
  },
  {
   "cell_type": "code",
   "execution_count": null,
   "metadata": {},
   "outputs": [],
   "source": [
    "count=0\n",
    "for i in range(len(st)):\n",
    "    if (st[i]=='e'):\n",
    "        count=count+1\n",
    "print(count)        "
   ]
  },
  {
   "cell_type": "markdown",
   "metadata": {},
   "source": [
    "in AND not in OPERATION"
   ]
  },
  {
   "cell_type": "code",
   "execution_count": null,
   "metadata": {},
   "outputs": [],
   "source": [
    "st='sandeepvaid'"
   ]
  },
  {
   "cell_type": "code",
   "execution_count": null,
   "metadata": {},
   "outputs": [],
   "source": [
    "if 'san' in st:\n",
    "    print(\"yes it is a substring\")\n",
    "else:\n",
    "    print(\"NO it is not a substring\")"
   ]
  },
  {
   "cell_type": "code",
   "execution_count": null,
   "metadata": {},
   "outputs": [],
   "source": [
    "st1=\"khushiji\""
   ]
  },
  {
   "cell_type": "code",
   "execution_count": null,
   "metadata": {},
   "outputs": [],
   "source": [
    "if 'kj' not in st1:\n",
    "    print(\"yes it is not a substring\")\n",
    "else:\n",
    "    print(\"yes it is a substring \")"
   ]
  },
  {
   "cell_type": "markdown",
   "metadata": {},
   "source": [
    "Operation on strings "
   ]
  },
  {
   "cell_type": "markdown",
   "metadata": {},
   "source": [
    "1) meaning of three quotes "
   ]
  },
  {
   "cell_type": "code",
   "execution_count": null,
   "metadata": {},
   "outputs": [],
   "source": [
    "print(\"\"\"hi\n",
    "sandeep \n",
    "one day you \n",
    "become a great progammer\"\"\")"
   ]
  },
  {
   "cell_type": "markdown",
   "metadata": {},
   "source": [
    "2)spit function"
   ]
  },
  {
   "cell_type": "code",
   "execution_count": null,
   "metadata": {},
   "outputs": [],
   "source": [
    "st=\"My Name Is Sandeep Vaid\"\n",
    "print(st.split()) ##here we don't pass any argument and thus it split on bases of spaces\n",
    "st1=\"My,Name,Is,SandeepVaid\"\n",
    "print(st1.split(\",\")) #here it split on the basis of commas(,)\n",
    "#HERE WE CAN PASS TWO ARGUMENTS WITH split FUNCTION WHICH SPECIFIES THAT HOW MUCH TIME WE HAVE TO SPLIT THAT\n",
    "st3='My Name Is Sandeep Vaid'\n",
    "print(st3.split((' '),2)) #here we split it two times on basis of spaces"
   ]
  },
  {
   "cell_type": "raw",
   "metadata": {},
   "source": [
    "3)replace Functon\n",
    "In that function we have to store replaced value in new variable"
   ]
  },
  {
   "cell_type": "code",
   "execution_count": null,
   "metadata": {},
   "outputs": [],
   "source": [
    "re=\"My Name Is Sandeep \"\n",
    "re=re.replace(\"Sandeep\",'Kanu')\n",
    "print(re)\n",
    "re1=\"My Name Is Sandeep and Sandeep\" #In that example you can see that we have 2 Sandeep \n",
    "re1=re1.replace(\"Sandeep\",\"Kanu\",1)#Here 1 specify we havr to replace only 1 Sandeep to Kanu not both\n",
    "print(re1)"
   ]
  },
  {
   "cell_type": "raw",
   "metadata": {},
   "source": [
    "4)find Function \n",
    "Here we use find function to find index of a substring"
   ]
  },
  {
   "cell_type": "code",
   "execution_count": 51,
   "metadata": {},
   "outputs": [
    {
     "name": "stdout",
     "output_type": "stream",
     "text": [
      "16\n",
      "19\n"
     ]
    }
   ],
   "source": [
    "fi=\"My Name Is Sandeep Vaid\"\n",
    "fi=fi.find(\"ep\")\n",
    "print(fi)\n",
    "fi1=\"My Name Is Sandeep Sandeep vaid\" #Here you can see that we have to Same string and now for substring \"San\" which index we want\n",
    "fi1=fi1.find(\"San\",16)#here 16 specifies that from where we start searching\n",
    "print(fi1)"
   ]
  },
  {
   "cell_type": "markdown",
   "metadata": {},
   "source": [
    "5)lower and upper"
   ]
  },
  {
   "cell_type": "code",
   "execution_count": 52,
   "metadata": {},
   "outputs": [
    {
     "name": "stdout",
     "output_type": "stream",
     "text": [
      "my name is sandeep vaid\n",
      "MY NAME IS SANDEEP VAID\n"
     ]
    }
   ],
   "source": [
    "string=\"My Name Is Sandeep Vaid\"\n",
    "lo=string.lower()\n",
    "print(lo)\n",
    "up=string.upper()\n",
    "print(up)"
   ]
  },
  {
   "cell_type": "raw",
   "metadata": {},
   "source": [
    "6)startswith\n",
    "It actually give us True or False value and check whether our string is really start with that specify string or not."
   ]
  },
  {
   "cell_type": "code",
   "execution_count": 55,
   "metadata": {},
   "outputs": [
    {
     "name": "stdout",
     "output_type": "stream",
     "text": [
      "True\n",
      "True\n"
     ]
    }
   ],
   "source": [
    "sta=\"My Name Is Sandeep Vaid\"\n",
    "ans=sta.startswith(\"My\")\n",
    "print(ans)\n",
    "sta1=\"My Name Is Sandeep Vaid\"\n",
    "ans=sta1.startswith(\"Sa\",11)#Here 11 specifies that from which index we have to check\n",
    "print(ans)"
   ]
  }
 ],
 "metadata": {
  "kernelspec": {
   "display_name": "Python 3",
   "language": "python",
   "name": "python3"
  },
  "language_info": {
   "codemirror_mode": {
    "name": "ipython",
    "version": 3
   },
   "file_extension": ".py",
   "mimetype": "text/x-python",
   "name": "python",
   "nbconvert_exporter": "python",
   "pygments_lexer": "ipython3",
   "version": "3.9.0"
  }
 },
 "nbformat": 4,
 "nbformat_minor": 4
}
