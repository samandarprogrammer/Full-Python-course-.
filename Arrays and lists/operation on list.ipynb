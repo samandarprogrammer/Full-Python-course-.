{
 "cells": [
  {
   "cell_type": "code",
   "execution_count": null,
   "metadata": {},
   "outputs": [],
   "source": [
    "##HOMOGENEOUS LISTS\n",
    "li1=[1,2,3,4,5,6] #integer list\n",
    "li2=[\"apple\",\"banana\",\"mango\"] #string list\n",
    "li3=[1.4,2.5,6.55] #float list"
   ]
  },
  {
   "cell_type": "code",
   "execution_count": null,
   "metadata": {},
   "outputs": [],
   "source": [
    "#Heteregeneous list\n",
    "li4=[1,2.5,\"apple\"]"
   ]
  },
  {
   "cell_type": "code",
   "execution_count": null,
   "metadata": {},
   "outputs": [],
   "source": [
    "#How to access the list\n",
    "#we can access list with the help of index\n",
    "print(li4[2])\n",
    "print(li2[2])\n",
    "print(li[1])\n",
    "\n",
    "#we can also get last value from list without specifying inndex\n",
    "li9=[1,2,3,4,5,6]\n",
    "li9.pop() ##pop is function\n",
    "li3pop(3) #we can also specify index to pop that element"
   ]
  },
  {
   "cell_type": "code",
   "execution_count": null,
   "metadata": {},
   "outputs": [],
   "source": [
    "#Insert or append in list. Insert means we are add value in a specified index \n",
    "#and append means we add value in last index\n",
    "li4.append(\"lichi\")\n",
    "print(li4)\n",
    "li4.insert(0,\"mango\")\n",
    "li4.insert(9,\"mjak\") #if we write that index which is not present,then it inserts in last index\n",
    "print(li4)\n",
    "\n",
    "#we can add list inside a list or we can add consecutive elements in it\n",
    "li10=[1,2,3,4,5]\n",
    "li10.append([\"aple\",\"mango\",2]) ## THIS IS LIST INSIDE LIST\n",
    "li10.extend([1,2,3]) #THIS IS ADDING CONSECUTIVE LIST BUT WE HAVE TO ADD ELEMENT IN FORM OF ARRAY\n",
    "li10"
   ]
  },
  {
   "cell_type": "code",
   "execution_count": 55,
   "metadata": {},
   "outputs": [
    {
     "name": "stdout",
     "output_type": "stream",
     "text": [
      "[5, 20.2, 'apple', 'mango']\n",
      "[20.222]\n",
      "[14, 54, 20.222, 'appleui']\n"
     ]
    }
   ],
   "source": [
    "#slicing in list\n",
    "li5=[1,5,20.2,\"apple\",\"mango\"]\n",
    "print(li5[1:]) #means we are not adding 1st value or 0th index  value\n",
    "li6=[14,54,20.222,\"appleui\",\"mangddo\"]\n",
    "print(li6[1:3])\n",
    "print(li6[:-1])#with minus value we can slice last index value"
   ]
  },
  {
   "cell_type": "code",
   "execution_count": null,
   "metadata": {},
   "outputs": [],
   "source": [
    "#How to modify a list\n",
    "li7=[2,5,6,3.3,\"sandeep\",\"ravi\"]\n",
    "li7[1]=9\n",
    "li7[11]=\"hehe\" ## this gives error(IT MEANS WE ARE NOT GIVING THAT INDEX WHICH WE DON'T HAVE)"
   ]
  },
  {
   "cell_type": "code",
   "execution_count": 50,
   "metadata": {},
   "outputs": [
    {
     "data": {
      "text/plain": [
       "[1, 2, 3, 4, 6]"
      ]
     },
     "execution_count": 50,
     "metadata": {},
     "output_type": "execute_result"
    }
   ],
   "source": [
    "#HOW WE CAN DELETE OR REMOVE ELEMENT\n",
    "li12=[1,2,3,4,5,6]\n",
    "li12.remove(5) #to remove element we have to write value of element\n",
    "li12"
   ]
  },
  {
   "cell_type": "code",
   "execution_count": 57,
   "metadata": {},
   "outputs": [
    {
     "name": "stdout",
     "output_type": "stream",
     "text": [
      "1 3 6 8 9\n",
      "['1', '3', '6', '8', '9']\n"
     ]
    }
   ],
   "source": [
    "\n",
    "li = [x for x in input().split()]\n",
    "print(li)"
   ]
  }
 ],
 "metadata": {
  "kernelspec": {
   "display_name": "Python 3",
   "language": "python",
   "name": "python3"
  },
  "language_info": {
   "codemirror_mode": {
    "name": "ipython",
    "version": 3
   },
   "file_extension": ".py",
   "mimetype": "text/x-python",
   "name": "python",
   "nbconvert_exporter": "python",
   "pygments_lexer": "ipython3",
   "version": "3.9.0"
  }
 },
 "nbformat": 4,
 "nbformat_minor": 4
}
