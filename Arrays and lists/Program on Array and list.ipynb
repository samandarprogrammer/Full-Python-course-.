{
 "cells": [
  {
   "cell_type": "code",
   "execution_count": null,
   "metadata": {
    "scrolled": true
   },
   "outputs": [],
   "source": [
    "def Sum_Array(li):\n",
    "    sum=0\n",
    "    for i in li:\n",
    "        sum=sum+i\n",
    "    return sum \n",
    "    \n",
    "n=int(input())\n",
    "li=[int(x) for x in input().strip().split(\" \")]  \n",
    "op=Sum_Array(li)\n",
    "print(op)    "
   ]
  },
  {
   "cell_type": "code",
   "execution_count": null,
   "metadata": {
    "scrolled": true
   },
   "outputs": [],
   "source": [
    "def Liner_search(li,x):\n",
    "    for i in range(len(li)):\n",
    "        if li[i]==x:\n",
    "            return i\n",
    "    return -1\n",
    "    \n",
    "n=int(input(\"size of list\"))            \n",
    "li =[int(x) for x in input(\"add elements in list\").strip().split(\" \")]\n",
    "x=int(input(\"search for a word\"))\n",
    "index=Liner_search(li,x)\n",
    "print(index)"
   ]
  },
  {
   "cell_type": "code",
   "execution_count": 3,
   "metadata": {
    "scrolled": true
   },
   "outputs": [
    {
     "name": "stdout",
     "output_type": "stream",
     "text": [
      "1 2 3\n",
      "[3, 2, 1]\n"
     ]
    }
   ],
   "source": [
    "##First way to do swapping\n",
    "def Reverse_list(li):\n",
    "    l=len(li)\n",
    "    for i in range(l//2):\n",
    "        li[i],li[-i-1]=li[-i-1],li[i]\n",
    "li=[int(x) for x in input().strip().split(\" \")]\n",
    "Reverse_list(li)\n",
    "print(li)"
   ]
  },
  {
   "cell_type": "code",
   "execution_count": 5,
   "metadata": {},
   "outputs": [
    {
     "name": "stdout",
     "output_type": "stream",
     "text": [
      "1 2 3\n",
      "[3, 2, 1]\n"
     ]
    }
   ],
   "source": [
    "#Second way of doing swapping\n",
    "def Reverse_list1(li):\n",
    "    li[::-1]\n",
    "\n",
    "li=[int(x) for x in input().strip().split(\" \")]\n",
    "Reverse_list(li)\n",
    "print(li)    "
   ]
  },
  {
   "cell_type": "code",
   "execution_count": 7,
   "metadata": {
    "scrolled": true
   },
   "outputs": [
    {
     "name": "stdout",
     "output_type": "stream",
     "text": [
      "4 5 6\n",
      "[5, 4, 6]\n"
     ]
    }
   ],
   "source": [
    "##First way to do swapping\n",
    "def Reverse_list(li):\n",
    "    l=len(li)\n",
    "    if l%2==0:\n",
    "        for i in range(0,l,2):\n",
    "            li[i],li[i+1]=li[i+1],li[i]\n",
    "    else:    \n",
    "        for i in range(0,l-1,2):\n",
    "            li[i],li[i+1]=li[i+1],li[i]\n",
    "            \n",
    "li=[int(x) for x in input().strip().split(\" \")]\n",
    "Reverse_list(li)\n",
    "print(li)"
   ]
  },
  {
   "cell_type": "code",
   "execution_count": null,
   "metadata": {},
   "outputs": [],
   "source": [
    "def swapAlternate(li) :\n",
    "    l=len(li)\n",
    "    if l%2==0:\n",
    "        for i in range(0,l,2):\n",
    "            li[i],li[i+1]=li[i+1],li[i]\n",
    "    else:    \n",
    "        for i in range(0,l-1,2):\n",
    "            li[i],li[i+1]=li[i+1],li[i]\n",
    "    \n"
   ]
  },
  {
   "cell_type": "code",
   "execution_count": null,
   "metadata": {},
   "outputs": [],
   "source": [
    "def Unique_element(li):\n",
    "    l=len(li)\n",
    "    if l==1:\n",
    "        return li[0]\n",
    "    uniq=0\n",
    "    for i in range(0,l):\n",
    "        for j in range(0,l):\n",
    "            if i==j:\n",
    "                pass\n",
    "            else:\n",
    "                if li[i]==li[j]:\n",
    "                    uniq=0\n",
    "                    break\n",
    "                else:\n",
    "                    uniq=li[i]\n",
    "                    pass\n",
    "        if uniq==0:\n",
    "            pass\n",
    "        else:\n",
    "            return uniq\n",
    "\n",
    "li=[int(x) for x in input().strip().split(\" \")]       \n",
    "print(Unique_element(li))\n"
   ]
  },
  {
   "cell_type": "code",
   "execution_count": null,
   "metadata": {},
   "outputs": [],
   "source": [
    "def Duplicate_element(li):\n",
    "    l=len(li)\n",
    "    for i in range(0,l):\n",
    "        for j in range(0,l):\n",
    "            if i==j:\n",
    "                pass\n",
    "            else:\n",
    "                if li[i]==li[j]:\n",
    "                    return li[i]\n",
    "                else:\n",
    "                    pass\n",
    "li=[int(x) for x in input().strip().split(\" \")]       \n",
    "print(Duplicate_element(li))"
   ]
  },
  {
   "cell_type": "code",
   "execution_count": null,
   "metadata": {},
   "outputs": [],
   "source": [
    "def Intersection_element(arr1,n,arr2,m):\n",
    "    li=[]\n",
    "    for i in range(n):\n",
    "        for j in range(m):\n",
    "            if arr1[i]==arr2[j]:\n",
    "                li.append(arr1[i])\n",
    "                break\n",
    "            else:\n",
    "                pass\n",
    "    return li\n",
    "\n",
    "n=int(input())\n",
    "arr1=[int(x) for x in input().strip().split(\" \")]\n",
    "m=int(input())\n",
    "arr2=[int(x) for x in input().strip().split(\" \")]    \n",
    "op=Intersection_element(arr1,n,arr2,m)   \n",
    "for i in op:\n",
    "    print(i,end=\" \")"
   ]
  },
  {
   "cell_type": "code",
   "execution_count": null,
   "metadata": {},
   "outputs": [],
   "source": [
    "def Pair_sum(arr,n,x):\n",
    "    count=0\n",
    "    for i in range(0,n):\n",
    "        for j in range(i+1,n):\n",
    "            if arr[i]+arr[j]==x:\n",
    "                count=count+1\n",
    "            else:\n",
    "                pass\n",
    "    return count\n",
    "\n",
    "n=int(input())\n",
    "arr=[int(x) for x in input().strip().split(\" \")]\n",
    "x=int(input())\n",
    "print(Pair_sum(arr,n,x))"
   ]
  },
  {
   "cell_type": "code",
   "execution_count": null,
   "metadata": {},
   "outputs": [],
   "source": [
    "def Triplet_sum(arr,n,x):\n",
    "    count=0\n",
    "    for i in range(0,n):\n",
    "        for j in range(i+1,n):\n",
    "            for k in range(j+1,n):\n",
    "                if arr[i]+arr[j]+arr[k]==x:\n",
    "                    count=count+1\n",
    "                else:\n",
    "                    pass\n",
    "    return count\n",
    "\n",
    "n=int(input())\n",
    "arr=[int(x) for x in input().strip().split(\" \")]\n",
    "x=int(input())\n",
    "print(Triplet_sum(arr,n,x))"
   ]
  },
  {
   "cell_type": "code",
   "execution_count": null,
   "metadata": {},
   "outputs": [],
   "source": [
    "li=[0,1,0,1,0,1]\n",
    "for ele in li:\n",
    "    if ele==0:\n",
    "        li.insert(0,ele)\n",
    "    else:\n",
    "        pass\n",
    "li    "
   ]
  },
  {
   "cell_type": "code",
   "execution_count": 95,
   "metadata": {},
   "outputs": [
    {
     "name": "stdout",
     "output_type": "stream",
     "text": [
      "6\n",
      "1 0 1 0 1 0\n",
      "[0, 0, 0, 1, 1, 1]\n"
     ]
    }
   ],
   "source": [
    "def Sort_0_1(arr,n):\n",
    "    i=0\n",
    "    j=n-1\n",
    "    while i<j:\n",
    "        if arr[i]==0:\n",
    "            i=i+1\n",
    "        else:\n",
    "            if arr[j]==1:\n",
    "                j=j-1\n",
    "            else:\n",
    "                arr[i],arr[j]=arr[j],arr[i]\n",
    "                j=j-1\n",
    "                \n",
    "n=int(input())\n",
    "arr=[int(x) for x in input().strip().split(\" \")]\n",
    "Sort_0_1(arr,n)\n",
    "print(arr)"
   ]
  }
 ],
 "metadata": {
  "kernelspec": {
   "display_name": "Python 3",
   "language": "python",
   "name": "python3"
  },
  "language_info": {
   "codemirror_mode": {
    "name": "ipython",
    "version": 3
   },
   "file_extension": ".py",
   "mimetype": "text/x-python",
   "name": "python",
   "nbconvert_exporter": "python",
   "pygments_lexer": "ipython3",
   "version": "3.9.0"
  }
 },
 "nbformat": 4,
 "nbformat_minor": 4
}
